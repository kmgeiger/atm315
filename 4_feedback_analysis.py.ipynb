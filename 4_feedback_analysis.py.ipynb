{
 "cells": [
  {
   "cell_type": "markdown",
   "metadata": {},
   "source": [
    "# Feedback machine \n",
    "## Testing the hypothesis: The feedback has no effects on the frequency of pendulum motion\n"
   ]
  },
  {
   "cell_type": "markdown",
   "metadata": {},
   "source": [
    "- Use numpy array index operations (same syntax as that for lists, and for strings) to extract the 'clean' pendulum motion data from the time series\n",
    "\n",
    "- Plot the time series in a way that you can test the hypothesis by visual inspection of the time series.\n",
    "\n",
    "Tip: You can find information on index operations in Blackboard / Course Content / Reading MAterial / Introduction to Numpy \n",
    "\n",
    " \n",
    " "
   ]
  },
  {
   "cell_type": "code",
   "execution_count": 9,
   "metadata": {},
   "outputs": [
    {
     "data": {
      "image/png": "[encoded data removed]",
      "text/plain": [
       "<Figure size 432x288 with 1 Axes>"
      ]
     },
     "metadata": {
      "needs_background": "light"
     },
     "output_type": "display_data"
    }
   ],
   "source": [
    "import matplotlib.pyplot as plt\n",
    "import numpy as np\n",
    "\n",
    "\n",
    "data=np.loadtxt(\"../data/accel_data_both_with_without_feedback.csv\",delimiter=\",\",skiprows=1)\n",
    "\n",
    "\n",
    "time=data[:,0]\n",
    "motion_with_feedback=data[:,1]\n",
    "motion_without_feedback=data[:,2]\n",
    "\n",
    "plt.plot(time, motion_with_feedback,color='red',label='feedback on')\n",
    "plt.plot(time, motion_without_feedback,color='blue',label='feedback off')\n",
    "plt.xlabel('time [s]')\n",
    "plt.legend()\n",
    "plt.show()"
   ]
  },
  {
   "cell_type": "code",
   "execution_count": null,
   "metadata": {},
   "outputs": [],
   "source": []
  }
 ],
 "metadata": {
  "kernelspec": {
   "display_name": "Python 3 (ipykernel)",
   "language": "python",
   "name": "python3"
  },
  "language_info": {
   "codemirror_mode": {
    "name": "ipython",
    "version": 3
   },
   "file_extension": ".py",
   "mimetype": "text/x-python",
   "name": "python",
   "nbconvert_exporter": "python",
   "pygments_lexer": "ipython3",
   "version": "3.9.9"
  }
 },
 "nbformat": 4,
 "nbformat_minor": 4
}
