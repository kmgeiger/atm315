{
 "cells": [
  {
   "cell_type": "markdown",
   "metadata": {},
   "source": [
    "# Unit 7: Demonstration Central Limit Theorem\n"
   ]
  },
  {
   "cell_type": "code",
   "execution_count": 3,
   "metadata": {},
   "outputs": [],
   "source": [
    "import numpy as np\n",
    "import matplotlib.pyplot as plt \n",
    "import pandas as pd\n",
    "# The scipy.stats package stats offers great support\n",
    "# distributions and random numbers.\n",
    "# see https://docs.scipy.org/doc/scipy/reference/tutorial/stats.html\n",
    "\n",
    "from scipy.stats import norm "
   ]
  },
  {
   "cell_type": "code",
   "execution_count": null,
   "metadata": {},
   "outputs": [],
   "source": []
  },
  {
   "cell_type": "code",
   "execution_count": 4,
   "metadata": {},
   "outputs": [],
   "source": [
    "#########################################################################\n",
    "# SUPPORTING FUNCTIONS ARE DEFINED HERE - DO NOT CHANGE\n",
    "#########################################################################\n",
    "def summary(y,**kwargs):\n",
    "    \"\"\"Prints summary statistics of the data (random variables)\n",
    "    \n",
    "    Input parameter: \n",
    "        y (1-d numpy array) : array with sample data\n",
    "    Returns:\n",
    "        a tuple with mean, standard deviation, minimum, maximum \n",
    "    \"\"\"\n",
    "    # end of function's docstring (shows up when typing help(summary))\n",
    "    \n",
    "    # Note the print function uses inside the strings the placeholder %12.4f for \n",
    "    # formatting the list (Python type 'tuple') of numbers such as mean and stddev\n",
    "    # they are printed where %12.4f shows up in the string #########.####\n",
    "    \n",
    "    print(40*\"-\")\n",
    "    print('Summary statistics for the data:')\n",
    "    if np.NAN in y:\n",
    "        n=np.size(y)\n",
    "        nmiss=np.sum(np.isnan(y))  \n",
    "        nsample=n-nmiss\n",
    "        print('Array size='+str(n))   \n",
    "        print('Detected NAN (missing values) in array :'+str(nmiss))\n",
    "        print('Sample size:'+str(nsample))\n",
    "        m=np.nanmean(y)\n",
    "        s=np.nanstd(y)\n",
    "        mn=np.nanmin(y)\n",
    "        mx=np.nanmax(y)\n",
    "    else:\n",
    "        nsample=np.size(y)\n",
    "        print ('Sample size='+str(nsample))\n",
    "        m=np.mean(y)\n",
    "        s=np.std(y)\n",
    "        mn=np.min(y)\n",
    "        mx=np.max(y)\n",
    "    print ('mean   : %12.4f' % (m))\n",
    "    print ('stddev : %12.4f' % (s))  \n",
    "    print ('mininum: %12.4f' % (mn))\n",
    "    print ('maximum: %12.4f' % (mx))\n",
    "    return m,s,mn,mx"
   ]
  },
  {
   "cell_type": "markdown",
   "metadata": {},
   "source": [
    "<P style=\"background-color:purple;color:gold;font-size:133%\">\n",
    "<BR>\n",
    " Main code section (users should only make changes in code below)\n",
    "<BR>\n",
    "<BR>\n",
    "</P>"
   ]
  },
  {
   "cell_type": "code",
   "execution_count": 5,
   "metadata": {},
   "outputs": [],
   "source": [
    "# **********************************************************\n",
    "# User control parameters\n",
    "# **********************************************************\n",
    "isCheck=True\n",
    "nsample=1000 # size of the array with random values\n",
    "\n"
   ]
  },
  {
   "cell_type": "markdown",
   "metadata": {},
   "source": [
    "### Numpy provides functions that can generate random numbers\n",
    "\n",
    "#### Example:\n",
    "\n",
    "*np.random.uniform(size=10)* \n",
    "\n",
    "This creates a numpy array with 10 random numbers\n",
    "in range of 0-1.\n",
    "\n"
   ]
  },
  {
   "cell_type": "code",
   "execution_count": 6,
   "metadata": {},
   "outputs": [
    {
     "data": {
      "text/plain": [
       "array([8.02929460e-01, 6.08118321e-01, 5.67300275e-01, 2.77156348e-02,\n",
       "       8.35461295e-01, 6.82418521e-01, 7.67403598e-01, 5.25660053e-01,\n",
       "       4.45534279e-01, 6.48223239e-01, 3.26276561e-01, 1.13088497e-01,\n",
       "       9.58544093e-01, 3.29424234e-01, 3.34419016e-01, 7.56345524e-02,\n",
       "       9.12078882e-01, 6.72483372e-01, 1.71070526e-01, 8.88051563e-01,\n",
       "       7.64961959e-01, 7.83282918e-01, 5.97293026e-01, 4.51089088e-01,\n",
       "       3.02887553e-02, 4.03968353e-01, 1.98184594e-01, 8.11881834e-01,\n",
       "       8.37308201e-01, 1.04804881e-01, 2.21202295e-02, 3.97069591e-01,\n",
       "       1.87342694e-01, 8.07126278e-01, 4.38158179e-01, 1.89927732e-01,\n",
       "       6.84082009e-02, 5.41132525e-01, 7.38021572e-01, 1.14679972e-01,\n",
       "       4.59280138e-01, 6.37348181e-01, 6.11343505e-01, 9.48881487e-01,\n",
       "       6.04307771e-01, 8.37682591e-01, 1.94263541e-01, 8.40459485e-01,\n",
       "       5.20957778e-01, 3.32969928e-01, 8.12425802e-01, 4.99728422e-01,\n",
       "       5.75498344e-01, 4.45111444e-01, 6.83050523e-02, 6.09868431e-01,\n",
       "       9.29176816e-01, 2.31767364e-01, 6.31276313e-01, 9.83107833e-01,\n",
       "       5.91985559e-01, 7.27380597e-01, 4.57195873e-03, 5.57804766e-01,\n",
       "       6.96927734e-01, 3.68954461e-01, 1.25463169e-01, 7.06003405e-02,\n",
       "       4.55941304e-01, 9.94527639e-01, 3.16762679e-01, 8.49553505e-01,\n",
       "       4.79811515e-01, 4.56724230e-01, 3.51168226e-01, 9.90958446e-01,\n",
       "       4.38701317e-01, 4.27259037e-01, 8.24983583e-01, 9.71212495e-01,\n",
       "       1.40715290e-01, 6.96060115e-01, 6.18795503e-01, 9.32069099e-01,\n",
       "       6.09472761e-01, 9.20516309e-01, 9.95367930e-01, 5.19944200e-01,\n",
       "       9.03254457e-01, 1.93013734e-01, 9.96758548e-01, 3.95409895e-01,\n",
       "       3.71561125e-01, 9.16578971e-01, 8.90019085e-01, 7.66740557e-01,\n",
       "       3.16081669e-01, 7.04976849e-01, 6.66859205e-01, 3.48416429e-01,\n",
       "       1.89170228e-01, 3.84963229e-01, 1.74121391e-01, 7.62412778e-01,\n",
       "       6.59628757e-01, 9.37936524e-01, 2.45819626e-01, 1.75981398e-01,\n",
       "       2.70638624e-02, 9.01318131e-01, 6.03623859e-01, 8.47406009e-01,\n",
       "       7.69049090e-01, 9.43416283e-02, 4.61940057e-02, 2.97685320e-01,\n",
       "       5.46947024e-01, 6.30044850e-01, 9.28211423e-01, 5.41981973e-01,\n",
       "       7.63631857e-01, 4.65953925e-01, 8.20866330e-01, 6.82750472e-01,\n",
       "       3.91755222e-01, 6.61494342e-01, 3.14405787e-01, 2.49460518e-01,\n",
       "       6.08144020e-01, 2.90420588e-01, 8.37752768e-02, 1.90322501e-01,\n",
       "       9.19197561e-01, 4.29805976e-01, 1.96457052e-01, 6.31228812e-01,\n",
       "       6.07777271e-01, 6.34806776e-01, 1.33778979e-01, 1.02570184e-01,\n",
       "       5.73266590e-01, 6.62758850e-01, 2.43015063e-01, 1.98664293e-01,\n",
       "       8.23748477e-01, 9.01642719e-01, 1.29920918e-02, 3.24587500e-01,\n",
       "       1.18926416e-01, 7.74993674e-01, 2.27241051e-01, 8.53665511e-01,\n",
       "       7.66587683e-01, 3.64882808e-01, 2.25358913e-03, 7.84248515e-01,\n",
       "       2.33606410e-01, 7.11262429e-01, 1.92446261e-01, 9.14313921e-01,\n",
       "       9.32378513e-01, 6.81092803e-01, 6.63279550e-01, 3.06016039e-01,\n",
       "       4.44947749e-01, 3.36192387e-01, 3.36242102e-02, 3.94360384e-01,\n",
       "       9.52625621e-01, 8.56212907e-01, 4.28635133e-01, 2.96358994e-01,\n",
       "       7.92213078e-01, 3.39001552e-01, 6.10218102e-01, 2.23309689e-01,\n",
       "       6.35462121e-01, 6.46219878e-01, 1.74425355e-01, 9.43941877e-01,\n",
       "       4.22381289e-01, 7.66887021e-01, 1.39250413e-01, 1.63447860e-01,\n",
       "       5.90867891e-01, 5.15412985e-01, 9.35870320e-01, 7.54615856e-01,\n",
       "       3.86763831e-01, 8.53240239e-01, 6.79122703e-01, 3.66873306e-01,\n",
       "       8.58797228e-01, 7.99209923e-01, 3.49077401e-01, 4.19247610e-01,\n",
       "       2.33239691e-01, 6.63786685e-01, 6.95076072e-01, 3.01309169e-01,\n",
       "       4.63622108e-01, 8.28495750e-01, 2.29590580e-01, 5.88580224e-02,\n",
       "       9.29920069e-02, 9.65685375e-01, 9.08913710e-01, 7.70121788e-01,\n",
       "       7.25494331e-01, 4.12111888e-02, 1.87660789e-01, 1.99619779e-01,\n",
       "       7.01161411e-01, 3.48477585e-01, 5.87013597e-01, 4.30230849e-01,\n",
       "       3.65222969e-01, 1.15090563e-01, 3.17205686e-01, 8.67262055e-01,\n",
       "       5.40127942e-01, 7.24560497e-01, 8.34259427e-01, 3.66743956e-01,\n",
       "       3.92897708e-01, 2.19646910e-01, 2.37053207e-02, 3.43302016e-01,\n",
       "       9.59826652e-01, 6.77023932e-01, 1.02561097e-01, 5.43239586e-01,\n",
       "       6.50585053e-01, 7.07877393e-02, 1.64058067e-01, 2.87814645e-01,\n",
       "       8.41592063e-01, 5.06969094e-01, 3.28189752e-01, 8.04576265e-01,\n",
       "       4.21830641e-01, 8.81137389e-01, 5.28424882e-02, 5.44464121e-01,\n",
       "       3.70261442e-01, 8.11393638e-01, 7.32043207e-01, 4.10218633e-01,\n",
       "       9.56716758e-01, 4.26197175e-01, 5.54657160e-01, 6.23950096e-01,\n",
       "       6.41907893e-01, 5.82963323e-01, 7.16191137e-01, 8.59908213e-01,\n",
       "       7.76002071e-01, 5.11710401e-01, 8.57992613e-02, 1.41395554e-02,\n",
       "       6.73967169e-01, 1.14682706e-01, 6.56011566e-01, 7.59694971e-01,\n",
       "       1.48934146e-01, 7.21229499e-01, 3.03334702e-01, 8.14721815e-01,\n",
       "       3.81813534e-01, 6.39782510e-01, 1.96267320e-01, 8.83638984e-02,\n",
       "       9.69514917e-01, 7.68383894e-01, 4.70717328e-02, 1.13035703e-01,\n",
       "       1.93085709e-01, 8.09927652e-01, 9.65621429e-02, 3.22233554e-01,\n",
       "       1.37330231e-01, 4.07069602e-01, 6.76985060e-01, 5.05367695e-01,\n",
       "       7.10956673e-02, 2.63183012e-01, 4.13795264e-01, 9.08831448e-02,\n",
       "       2.41680050e-01, 2.68104927e-01, 7.97903341e-02, 3.92307870e-01,\n",
       "       4.77655541e-01, 7.28559446e-01, 2.67249121e-01, 2.08476732e-01,\n",
       "       7.84922472e-01, 6.75093223e-01, 9.28780832e-01, 9.97995201e-02,\n",
       "       8.96166249e-01, 8.71226456e-02, 7.28834195e-01, 6.39283447e-01,\n",
       "       3.42093216e-01, 9.11354232e-01, 2.43221650e-01, 4.14505504e-02,\n",
       "       5.76320896e-01, 1.77401301e-01, 5.97881118e-01, 2.51624828e-01,\n",
       "       7.31264726e-01, 4.13596220e-01, 2.18634319e-01, 8.36957633e-01,\n",
       "       3.59628298e-01, 9.28366460e-01, 7.81587375e-01, 4.59461467e-01,\n",
       "       9.86851304e-01, 4.83453815e-01, 2.84676607e-01, 6.34081217e-01,\n",
       "       3.92945337e-01, 7.14231294e-01, 9.55586536e-01, 7.19733041e-01,\n",
       "       1.71147850e-01, 3.26010168e-01, 1.34224755e-01, 2.99313585e-01,\n",
       "       1.60498311e-01, 2.86310771e-01, 6.74779587e-01, 2.31850703e-01,\n",
       "       9.83351536e-01, 2.96250517e-01, 4.43299839e-01, 5.70690127e-02,\n",
       "       4.40589437e-01, 9.37197652e-01, 6.09181820e-01, 4.66871422e-01,\n",
       "       6.72774002e-01, 9.12020936e-01, 1.18306778e-01, 8.77258437e-01,\n",
       "       2.39405170e-01, 3.32223425e-01, 8.96518646e-02, 8.43796796e-01,\n",
       "       4.06785366e-01, 7.05693256e-02, 3.11304543e-01, 8.95291565e-01,\n",
       "       8.99955303e-01, 6.71986296e-01, 1.55334618e-02, 5.31309979e-01,\n",
       "       2.32168355e-01, 3.75474336e-01, 3.91868492e-01, 2.89178067e-02,\n",
       "       3.28725275e-01, 5.87419141e-01, 4.49243254e-01, 8.65956183e-03,\n",
       "       4.46418183e-02, 1.72426113e-01, 7.75813803e-01, 6.30009554e-01,\n",
       "       9.33041989e-01, 8.12926207e-01, 4.64157320e-01, 7.70131541e-01,\n",
       "       9.30081385e-01, 4.70394928e-01, 9.72220064e-01, 5.30998745e-01,\n",
       "       2.50673731e-01, 7.33572009e-01, 3.93727004e-02, 6.41941831e-01,\n",
       "       3.79809528e-01, 6.47119357e-01, 3.10328193e-01, 4.40440096e-01,\n",
       "       4.27950094e-01, 8.65634521e-01, 4.96476176e-01, 5.60834583e-01,\n",
       "       7.21647621e-01, 9.80749466e-01, 5.77048792e-01, 5.99762537e-01,\n",
       "       5.92519396e-01, 3.03947048e-01, 1.97672657e-01, 1.89099796e-01,\n",
       "       9.50732955e-01, 9.92691942e-01, 1.44353338e-01, 9.40559861e-01,\n",
       "       5.66996483e-01, 5.63281640e-01, 5.94689886e-01, 7.69436875e-01,\n",
       "       4.73547344e-01, 1.98695898e-01, 7.77305409e-02, 7.96994709e-01,\n",
       "       4.35552832e-01, 2.40603208e-01, 3.49524416e-01, 9.77153818e-01,\n",
       "       5.73817336e-01, 6.34739771e-01, 7.71673355e-01, 3.10772112e-01,\n",
       "       8.88112260e-01, 5.90828570e-01, 1.30321742e-01, 1.52743993e-01,\n",
       "       3.21681664e-01, 9.58320018e-01, 5.91668136e-01, 1.59708499e-01,\n",
       "       7.85058908e-01, 3.17091351e-01, 1.34248240e-01, 4.64722170e-02,\n",
       "       4.52516290e-01, 7.67992786e-01, 9.31671117e-01, 2.17164859e-01,\n",
       "       3.38511104e-01, 6.27272714e-01, 2.35051698e-01, 2.23355667e-01,\n",
       "       3.92926529e-01, 4.05913204e-01, 4.88750714e-01, 1.49593278e-01,\n",
       "       4.50121422e-01, 5.34088688e-02, 5.13328566e-01, 6.36412739e-01,\n",
       "       3.99890053e-01, 3.80239330e-01, 6.37617152e-01, 9.13960303e-01,\n",
       "       4.01584967e-01, 3.66728212e-01, 8.09268970e-01, 3.32495366e-01,\n",
       "       1.93605630e-02, 4.11264348e-01, 1.22830709e-01, 5.78865354e-01,\n",
       "       8.23147358e-01, 6.45697405e-01, 8.88304419e-01, 9.99285052e-01,\n",
       "       3.47519019e-01, 1.10487053e-01, 7.41492644e-01, 2.25488615e-01,\n",
       "       3.80987929e-01, 6.07518510e-01, 3.13889785e-02, 5.77401926e-01,\n",
       "       5.15815458e-01, 7.49742035e-03, 4.23983470e-03, 3.20501171e-01,\n",
       "       7.33834027e-01, 4.84218711e-01, 7.97152207e-01, 2.58803111e-01,\n",
       "       2.77131752e-01, 4.27353883e-01, 2.91873458e-01, 5.73829213e-01,\n",
       "       8.98801875e-01, 4.15936470e-01, 6.39971631e-01, 4.48808263e-01,\n",
       "       7.92443937e-01, 1.83355735e-01, 6.93427021e-02, 7.08681653e-01,\n",
       "       8.98317773e-01, 7.05295924e-02, 3.70999374e-01, 8.86536825e-01,\n",
       "       8.90448019e-01, 2.74208453e-01, 6.34810166e-01, 6.21528129e-01,\n",
       "       7.26525829e-01, 9.08495554e-01, 7.47908110e-01, 1.77934550e-01,\n",
       "       3.72486096e-01, 1.95809907e-01, 3.91376120e-01, 6.91537285e-01,\n",
       "       7.81155370e-01, 1.37337594e-01, 8.28611019e-01, 2.48579775e-01,\n",
       "       2.39582270e-01, 2.87691520e-01, 9.89136341e-01, 8.26263853e-01,\n",
       "       6.64299499e-01, 7.97682564e-01, 8.80379046e-01, 2.31740400e-01,\n",
       "       2.12754780e-01, 3.17047223e-01, 2.67896743e-01, 3.41699266e-01,\n",
       "       9.74144067e-01, 7.92145049e-01, 4.66208512e-02, 7.64993312e-01,\n",
       "       3.41110014e-01, 2.95393209e-01, 5.74878405e-01, 8.69834297e-01,\n",
       "       7.54849534e-01, 5.20767838e-01, 5.94512129e-01, 3.65038467e-01,\n",
       "       1.81850451e-01, 7.36575578e-01, 5.92330340e-01, 9.73039838e-01,\n",
       "       2.66104555e-01, 1.90923584e-01, 2.39921951e-01, 7.16287330e-01,\n",
       "       7.80581905e-01, 3.78862524e-01, 4.48723345e-01, 7.37227594e-01,\n",
       "       5.86669872e-01, 3.60649732e-01, 1.72513453e-01, 2.97464699e-01,\n",
       "       8.38271262e-01, 3.29028700e-01, 9.64433096e-01, 4.58538634e-01,\n",
       "       3.03314640e-01, 6.83721283e-01, 5.51086619e-02, 8.09246483e-02,\n",
       "       6.42517044e-01, 1.49637898e-01, 5.82209278e-02, 5.56122226e-01,\n",
       "       9.35756475e-01, 5.82001987e-01, 7.94394024e-01, 7.04956769e-01,\n",
       "       5.82590924e-02, 7.22319757e-01, 5.92164910e-01, 7.45194100e-01,\n",
       "       7.81623944e-01, 4.13287157e-01, 1.08464530e-01, 4.73277200e-01,\n",
       "       1.86551683e-01, 1.86195539e-01, 6.82351444e-01, 4.46774486e-01,\n",
       "       9.78400859e-01, 1.60721566e-01, 8.42935593e-01, 4.75124312e-02,\n",
       "       4.49924720e-01, 8.78647828e-01, 7.82567638e-01, 7.48240135e-01,\n",
       "       9.79145209e-01, 4.58045074e-01, 2.93700928e-01, 4.01679295e-01,\n",
       "       5.91836187e-01, 2.07051961e-01, 7.81227157e-01, 4.27827020e-01,\n",
       "       6.99204643e-01, 1.71260513e-01, 6.23943689e-01, 2.13496763e-01,\n",
       "       2.92816218e-01, 8.35389133e-01, 3.96076357e-01, 3.68162815e-02,\n",
       "       9.09672644e-01, 7.69788931e-01, 1.49726967e-01, 2.71716881e-01,\n",
       "       2.45563619e-01, 3.87356106e-01, 6.66291249e-01, 7.86451239e-01,\n",
       "       4.00351675e-01, 7.83392174e-01, 6.24112897e-01, 7.38714923e-01,\n",
       "       7.96443218e-02, 6.34035668e-01, 4.96542773e-01, 2.70611341e-02,\n",
       "       7.77164374e-01, 6.15680866e-01, 1.85769279e-01, 6.00974996e-01,\n",
       "       8.62387349e-01, 3.18603702e-01, 7.27488411e-01, 7.84020923e-01,\n",
       "       1.54030571e-01, 1.36691760e-01, 6.64511261e-01, 2.25822005e-01,\n",
       "       2.11496665e-01, 9.98411491e-01, 4.50641531e-01, 8.43149006e-01,\n",
       "       2.32011850e-01, 7.30889849e-01, 1.70002522e-01, 2.32829597e-01,\n",
       "       7.67852586e-01, 8.67035851e-02, 2.98110247e-01, 7.48964054e-01,\n",
       "       1.97036524e-01, 3.57759115e-01, 1.89550644e-01, 1.71598637e-01,\n",
       "       3.27809351e-04, 5.65570083e-01, 4.83894111e-01, 8.36893867e-01,\n",
       "       5.22258271e-01, 8.73076577e-01, 3.28169987e-01, 7.23357541e-01,\n",
       "       6.27010089e-01, 7.50231571e-01, 2.37618086e-01, 3.66419354e-02,\n",
       "       3.58504483e-01, 9.45913009e-01, 3.01275662e-01, 4.62160674e-01,\n",
       "       3.71940751e-01, 6.23279192e-01, 5.23641140e-01, 4.68215340e-01,\n",
       "       8.64605127e-01, 6.77295176e-01, 5.69260509e-02, 7.59148082e-01,\n",
       "       2.71279640e-01, 8.64017771e-01, 2.13782064e-02, 6.94125665e-01,\n",
       "       3.82066869e-01, 2.50265035e-01, 3.78168533e-01, 3.45820463e-01,\n",
       "       1.09369744e-01, 7.33159010e-01, 4.01044301e-01, 2.95491288e-01,\n",
       "       4.11387627e-01, 3.87895719e-01, 6.35540574e-01, 5.17645714e-01,\n",
       "       2.76488706e-01, 2.53781581e-01, 4.21869458e-01, 7.89605913e-01,\n",
       "       7.24915553e-01, 1.73603963e-01, 8.22402142e-01, 4.23363239e-01,\n",
       "       4.53840087e-01, 4.49490112e-01, 8.13107002e-01, 5.86265692e-01,\n",
       "       1.00317255e-02, 9.86041928e-01, 8.69367911e-01, 7.32958373e-01,\n",
       "       2.50846478e-01, 3.48015949e-01, 1.23537954e-01, 1.80691112e-01,\n",
       "       9.10084558e-01, 1.24724879e-01, 1.21751655e-03, 2.50094888e-01,\n",
       "       8.78264150e-01, 1.29553274e-01, 2.75348290e-01, 9.03327816e-01,\n",
       "       4.85130639e-02, 2.54191667e-01, 7.56088109e-01, 4.70854377e-01,\n",
       "       4.09757743e-01, 8.63295034e-01, 1.88649916e-02, 2.72186590e-01,\n",
       "       3.66526957e-01, 3.17189108e-01, 3.57407362e-01, 8.03749869e-01,\n",
       "       3.57977697e-01, 8.48361765e-01, 2.08614977e-01, 8.14096658e-01,\n",
       "       8.44278143e-01, 9.82306143e-02, 4.13536490e-01, 9.01522221e-02,\n",
       "       2.82196030e-01, 8.39664471e-01, 3.41788759e-01, 6.02044440e-01,\n",
       "       5.55167443e-01, 9.01260828e-01, 7.79999224e-01, 6.89267847e-01,\n",
       "       7.14646536e-01, 4.84229186e-01, 7.56131171e-01, 6.49912384e-02,\n",
       "       4.11261941e-02, 4.07388345e-01, 4.84243395e-01, 6.32641287e-01,\n",
       "       5.23819666e-02, 3.39325983e-01, 1.87642616e-01, 6.19546929e-01,\n",
       "       7.44283931e-01, 6.19752885e-01, 1.02963817e-01, 5.85813501e-01,\n",
       "       4.94603949e-01, 3.38158988e-01, 2.47515349e-01, 7.50367709e-01,\n",
       "       5.47002407e-01, 4.02318855e-01, 3.31473238e-01, 4.99544762e-01,\n",
       "       2.77692318e-01, 4.55555402e-01, 6.43456210e-01, 7.76753070e-01,\n",
       "       1.88286246e-01, 1.91498224e-01, 6.91095224e-01, 1.43758360e-01,\n",
       "       4.79739694e-01, 4.90453816e-01, 3.68367027e-01, 1.74308751e-01,\n",
       "       7.84546941e-01, 3.36779972e-01, 4.97788334e-01, 5.20026611e-01,\n",
       "       7.41653798e-01, 6.98162379e-01, 7.50890017e-01, 6.47678225e-01,\n",
       "       6.17106312e-01, 9.74168606e-01, 8.84088937e-01, 5.08960142e-01,\n",
       "       9.34787330e-01, 4.10362953e-01, 2.74321853e-01, 7.06504225e-01,\n",
       "       7.22749589e-01, 9.18096267e-01, 8.01107558e-01, 3.89103395e-01,\n",
       "       9.10514228e-01, 7.04542258e-02, 2.37098603e-01, 1.28167594e-01,\n",
       "       3.77699860e-01, 3.35023718e-01, 8.21869698e-01, 4.32976408e-01,\n",
       "       4.65268400e-01, 4.29879507e-01, 1.48692415e-01, 8.41282775e-01,\n",
       "       6.06905230e-01, 3.62480736e-01, 7.82420198e-01, 5.34314052e-01,\n",
       "       5.14359446e-01, 8.93460496e-01, 4.65425404e-01, 6.45507291e-01,\n",
       "       1.04064701e-01, 8.19568144e-01, 5.69760897e-01, 4.49307935e-01,\n",
       "       9.11000687e-01, 3.37261032e-01, 4.11490345e-01, 7.79880009e-01,\n",
       "       8.39092935e-01, 1.37144096e-01, 2.51241788e-01, 6.68395852e-01,\n",
       "       8.96870346e-01, 7.20097242e-01, 3.49211186e-01, 8.19219960e-01,\n",
       "       4.93483113e-01, 7.09084235e-02, 1.10554195e-01, 4.91778661e-01,\n",
       "       8.31899305e-01, 2.97992171e-01, 5.83713759e-01, 8.04051660e-01,\n",
       "       2.08696585e-01, 3.81454285e-01, 1.21493924e-03, 1.87560678e-01,\n",
       "       6.00100611e-01, 9.58877849e-01, 2.19073969e-01, 2.13459503e-01,\n",
       "       7.01864408e-01, 1.02345380e-01, 6.73719766e-01, 6.85193177e-01,\n",
       "       3.62826222e-01, 7.97078324e-01, 9.80592392e-01, 8.89804154e-01,\n",
       "       3.05937536e-01, 7.07696193e-02, 2.66161473e-02, 8.34714271e-01,\n",
       "       6.77745058e-02, 8.33975428e-01, 4.72162431e-01, 7.71303541e-02,\n",
       "       9.31806297e-01, 4.26893919e-01, 9.26419088e-01, 3.55326826e-01,\n",
       "       9.09876756e-01, 5.68933362e-01, 7.30137088e-01, 8.47928473e-01,\n",
       "       1.45616443e-01, 6.98813047e-02, 9.47907530e-02, 6.52250443e-01,\n",
       "       5.81530489e-01, 5.99051041e-01, 4.26355701e-01, 8.89612594e-01,\n",
       "       5.21660491e-01, 2.04568501e-01, 5.53725437e-01, 7.65819074e-01,\n",
       "       8.84660647e-01, 8.83599997e-01, 6.38486954e-01, 3.54181870e-01,\n",
       "       5.27462477e-01, 4.15065236e-03, 6.10897978e-01, 9.15574942e-01,\n",
       "       8.43827746e-01, 1.04417690e-01, 6.35512584e-01, 2.81716021e-01,\n",
       "       7.13531836e-01, 4.64165442e-01, 4.40738356e-01, 2.83255431e-01,\n",
       "       1.18491152e-01, 3.16743141e-01, 5.56738226e-01, 5.00233606e-01,\n",
       "       7.60757427e-01, 7.99552689e-01, 8.53713195e-01, 1.13521600e-01,\n",
       "       2.79461725e-01, 2.23150891e-01, 4.85576921e-01, 7.85785219e-01,\n",
       "       8.36567734e-01, 8.49971869e-01, 9.45782553e-02, 2.40002567e-01,\n",
       "       4.53882922e-01, 2.23657750e-01, 2.47135300e-01, 8.62834208e-01,\n",
       "       6.34037956e-01, 7.18913041e-01, 9.71051883e-01, 9.93175907e-01,\n",
       "       3.36942859e-01, 2.91816529e-01, 7.72306168e-01, 5.50433322e-01,\n",
       "       4.64760406e-01, 5.20445821e-01, 4.24947455e-01, 9.63830881e-01,\n",
       "       4.50892767e-01, 2.32471237e-02, 4.05323524e-01, 4.06939510e-01,\n",
       "       4.26829805e-01, 2.97502802e-01, 9.74627911e-01, 2.63382776e-01,\n",
       "       6.91599556e-01, 3.70747061e-02, 5.88830201e-02, 1.05734135e-01,\n",
       "       9.42483825e-01, 3.71922931e-01, 6.91169651e-01, 6.29804515e-01,\n",
       "       2.02034620e-01, 5.26837162e-01, 1.28872316e-01, 7.29909343e-01,\n",
       "       8.31856154e-01, 4.58326168e-01, 8.65471231e-01, 7.80294445e-01,\n",
       "       1.88842092e-01, 3.32504620e-01, 9.42212914e-01, 5.50866474e-01,\n",
       "       5.08018874e-01, 7.92172872e-01, 5.32781630e-01, 3.07658118e-01,\n",
       "       9.12903876e-01, 8.15160094e-01, 6.31391511e-01, 4.58508211e-01,\n",
       "       3.30208622e-01, 8.35903637e-01, 8.36643065e-01, 4.61116225e-01,\n",
       "       1.30331712e-01, 5.79124176e-01, 1.52962110e-01, 4.46887818e-01,\n",
       "       3.98564097e-01, 4.03508641e-01, 8.26833160e-01, 3.99099182e-01,\n",
       "       8.80927948e-01, 3.05193621e-02, 6.42442321e-01, 8.43410377e-01,\n",
       "       4.77604479e-01, 9.15206789e-01, 9.14614421e-01, 5.63943995e-01,\n",
       "       8.82849542e-01, 5.11587381e-01, 3.69075337e-01, 4.05931866e-01,\n",
       "       2.52268870e-01, 3.84008774e-01, 8.25059414e-01, 5.15682826e-01])"
      ]
     },
     "execution_count": 6,
     "metadata": {},
     "output_type": "execute_result"
    }
   ],
   "source": [
    "np.random.uniform(size=1000)"
   ]
  },
  {
   "cell_type": "code",
   "execution_count": 7,
   "metadata": {},
   "outputs": [
    {
     "name": "stdout",
     "output_type": "stream",
     "text": [
      "\n",
      "\n",
      "Just checking: what is x1?\n",
      "\tObject type:  <class 'numpy.ndarray'>\n",
      "\tSize : 1000\n",
      "\t1-dim array with 1000 numbers\n",
      "\n",
      "\n",
      "----------------------------------------\n",
      "Summary statistics for the data:\n",
      "Sample size=1000\n",
      "mean   :       0.4983\n",
      "stddev :       0.2859\n",
      "mininum:       0.0015\n",
      "maximum:       0.9986\n"
     ]
    }
   ],
   "source": [
    "# Independent and identically uniformly distributed random numbers\n",
    "x1=np.random.uniform(size=nsample)\n",
    "\n",
    "if isCheck:\n",
    "    print()\n",
    "    print()\n",
    "    print('Just checking: what is x1?')\n",
    "    print('\\tObject type: ', type(x1))\n",
    "    print('\\tSize : ' + str(np.size(x1)))\n",
    "    print('\\t1-dim array with '+str(nsample)+' numbers')\n",
    "    print()\n",
    "    print()\n",
    "\n",
    "m,s,mn,mx=summary(x1)"
   ]
  },
  {
   "cell_type": "code",
   "execution_count": 8,
   "metadata": {},
   "outputs": [
    {
     "data": {
      "image/png": "[encoded data removed]",
      "text/plain": [
       "<Figure size 432x288 with 1 Axes>"
      ]
     },
     "metadata": {
      "needs_background": "light"
     },
     "output_type": "display_data"
    }
   ],
   "source": [
    "plt.hist(x1,bins=10,edgecolor='black',label='sample x1',lw=1,fill=False)\n",
    "plt.legend()\n",
    "plt.title(\"Histogram of a uniformly distributed random variable\")\n",
    "plt.xlabel(\"x value (grouped in into bins)\")\n",
    "plt.ylabel(\"Frequency\")\n",
    "plt.show()"
   ]
  },
  {
   "cell_type": "code",
   "execution_count": 9,
   "metadata": {},
   "outputs": [
    {
     "name": "stdout",
     "output_type": "stream",
     "text": [
      "----------------------------------------\n",
      "Summary statistics for the data:\n",
      "Sample size=1000\n",
      "mean   :       0.4836\n",
      "stddev :       0.2924\n",
      "mininum:       0.0011\n",
      "maximum:       0.9991\n",
      "----------------------------------------\n",
      "Summary statistics for the data:\n",
      "Sample size=1000\n",
      "mean   :       0.4961\n",
      "stddev :       0.2853\n",
      "mininum:       0.0011\n",
      "maximum:       0.9998\n"
     ]
    }
   ],
   "source": [
    "# **********************************************************\n",
    "# Now we create two uniformly distributed random variables\n",
    "# **********************************************************\n",
    "\n",
    "# two independent and identically distributed random number sets\n",
    "x1=np.random.uniform(size=nsample)\n",
    "x2=np.random.uniform(size=nsample)\n",
    "\n",
    "m1,s1,mn1,mx1=summary(x1)\n",
    "m2,s2,mn2,mx2=summary(x2)\n"
   ]
  },
  {
   "cell_type": "code",
   "execution_count": 10,
   "metadata": {},
   "outputs": [
    {
     "data": {
      "image/png": "[encoded data removed]",
      "text/plain": [
       "<Figure size 432x288 with 1 Axes>"
      ]
     },
     "metadata": {
      "needs_background": "light"
     },
     "output_type": "display_data"
    }
   ],
   "source": [
    "nbin=10 # number of bins \n",
    "plt.hist(x1,bins=nbin,edgecolor='purple',label='sample x1',lw=2,fill=False)\n",
    "plt.hist(x2,bins=nbin,edgecolor='blue',label='sampe x2',lw=1,fill=False)\n",
    "plt.title(\"histograms for uniformly distributed random variables\")\n",
    "plt.xlabel(\"x value (grouped in into bins)\")\n",
    "plt.legend()\n",
    "plt.show()\n"
   ]
  },
  {
   "cell_type": "code",
   "execution_count": 11,
   "metadata": {},
   "outputs": [
    {
     "name": "stdout",
     "output_type": "stream",
     "text": [
      "----------------------------------------\n",
      "Summary statistics for the data:\n",
      "Sample size=1000\n",
      "mean   :       0.4972\n",
      "stddev :       0.2874\n",
      "mininum:       0.0003\n",
      "maximum:       0.9991\n",
      "----------------------------------------\n",
      "Summary statistics for the data:\n",
      "Sample size=1000\n",
      "mean   :       0.4886\n",
      "stddev :       0.2889\n",
      "mininum:       0.0006\n",
      "maximum:       0.9997\n",
      "\n",
      "The sum of the two uniformly distributed random variables:\n",
      "----------------------------------------\n",
      "Summary statistics for the data:\n",
      "Sample size=1000\n",
      "mean   :       0.9859\n",
      "stddev :       0.4038\n",
      "mininum:       0.0553\n",
      "maximum:       1.9518\n"
     ]
    }
   ],
   "source": [
    "# summation of two independent and identically distributed random number sets\n",
    "x1=np.random.uniform(size=nsample)\n",
    "x2=np.random.uniform(size=nsample)\n",
    "\n",
    "m1,s1,mn1,mx1=summary(x1)\n",
    "m2,s2,mn2,mx2=summary(x2)\n",
    "\n",
    "y=(x1+x2)\n",
    "print()\n",
    "print (\"The sum of the two uniformly distributed random variables:\")\n",
    "ym,ys,ymn,ymx=summary(y)"
   ]
  },
  {
   "cell_type": "code",
   "execution_count": 12,
   "metadata": {},
   "outputs": [
    {
     "data": {
      "image/png": "[encoded data removed]",
      "text/plain": [
       "<Figure size 432x288 with 1 Axes>"
      ]
     },
     "metadata": {
      "needs_background": "light"
     },
     "output_type": "display_data"
    }
   ],
   "source": [
    "plt.hist(y,bins=10,color='cyan',edgecolor='black',label='y=x1+x2',lw=1,fill=True,alpha=0.5)\n",
    "plt.hist(x1,bins=10,edgecolor='purple',label='x1',lw=2,fill=False)\n",
    "plt.hist(x2,bins=10,edgecolor='blue',label='x2',lw=1,fill=False)\n",
    "plt.legend()\n",
    "plt.show()"
   ]
  },
  {
   "cell_type": "code",
   "execution_count": 50,
   "metadata": {},
   "outputs": [
    {
     "name": "stdout",
     "output_type": "stream",
     "text": [
      "----------------------------------------\n",
      "Summary statistics for the data:\n",
      "Sample size=100000\n",
      "mean   :       0.9999\n",
      "stddev :       0.4078\n",
      "mininum:       0.0035\n",
      "maximum:       1.9962\n"
     ]
    },
    {
     "data": {
      "image/png": "[encoded data removed]",
      "text/plain": [
       "<Figure size 864x576 with 2 Axes>"
      ]
     },
     "metadata": {
      "needs_background": "light"
     },
     "output_type": "display_data"
    }
   ],
   "source": [
    "# figure with two histograms side by side\n",
    "# sharing the same y-axis range is set off    \n",
    "\n",
    "\n",
    "x1=np.random.uniform(size=nsample)\n",
    "x2=np.random.uniform(size=nsample)\n",
    "y=(x1+x2)\n",
    "\n",
    "\n",
    "nbin=100 # controls how many bins (bars) the histgram uses\n",
    "fig, ax = plt.subplots(1, 2, sharex=False, sharey=False,figsize=(12,8))\n",
    "# left figure\n",
    "ax[0].hist(x1,bins=nbin,color='burlywood',density=True,histtype='step',label='x1')\n",
    "ax[0].hist(x2,bins=nbin,color='crimson',density=True,histtype='step',label='x2')\n",
    "ax[0].set_title('uniform random variables')\n",
    "# right figure\n",
    "ax[1].hist(y,bins=nbin,color='cyan',edgecolor='black',\n",
    "           label='average (y=x1+x2)',density=True,alpha=0.5)\n",
    "ax[1].set_title('histogram for the sum of two independent \\n random uniform variables')\n",
    "\n",
    "\n",
    "# last compare with the 'best fitted gaussian PDF'\n",
    "# location parameter is the mean of y and scale parameter is the \n",
    "# standard deviation of y\n",
    "\n",
    "ym,ys,ymn,ymx=summary(y)\n",
    "\n",
    "###################################################################\n",
    "# create x-values for the gaussian function plot\n",
    "###################################################################\n",
    "xhelp=np.linspace(ymn,ymx,num=100)\n",
    "gaussian=norm.pdf(xhelp,ym,ys)\n",
    "\n",
    "ax[1].plot(xhelp,gaussian,color='violet',linewidth=3)\n",
    "\n",
    "fig.show()"
   ]
  },
  {
   "cell_type": "code",
   "execution_count": 58,
   "metadata": {},
   "outputs": [
    {
     "ename": "TypeError",
     "evalue": "'tuple' object is not callable",
     "output_type": "error",
     "traceback": [
      "\u001b[0;31m---------------------------------------------------------------------------\u001b[0m",
      "\u001b[0;31mTypeError\u001b[0m                                 Traceback (most recent call last)",
      "\u001b[0;32m/tmp/ipykernel_38926/1957088998.py\u001b[0m in \u001b[0;36m<module>\u001b[0;34m\u001b[0m\n\u001b[1;32m      7\u001b[0m \u001b[0;34m\u001b[0m\u001b[0m\n\u001b[1;32m      8\u001b[0m \u001b[0;32mfor\u001b[0m \u001b[0mi\u001b[0m \u001b[0;32min\u001b[0m \u001b[0mx\u001b[0m\u001b[0;34m:\u001b[0m\u001b[0;34m\u001b[0m\u001b[0;34m\u001b[0m\u001b[0m\n\u001b[0;32m----> 9\u001b[0;31m     \u001b[0;32mif\u001b[0m \u001b[0mx\u001b[0m\u001b[0;34m(\u001b[0m\u001b[0;36m0\u001b[0m\u001b[0;34m)\u001b[0m \u001b[0;32min\u001b[0m \u001b[0mx\u001b[0m\u001b[0;34m(\u001b[0m\u001b[0;34m)\u001b[0m\u001b[0;34m:\u001b[0m\u001b[0;34m\u001b[0m\u001b[0;34m\u001b[0m\u001b[0m\n\u001b[0m\u001b[1;32m     10\u001b[0m         \u001b[0mprint\u001b[0m\u001b[0;34m(\u001b[0m\u001b[0mx\u001b[0m\u001b[0;34m(\u001b[0m\u001b[0;36m0\u001b[0m\u001b[0;34m)\u001b[0m\u001b[0;34m)\u001b[0m\u001b[0;34m\u001b[0m\u001b[0;34m\u001b[0m\u001b[0m\n\u001b[1;32m     11\u001b[0m \u001b[0;34m\u001b[0m\u001b[0m\n",
      "\u001b[0;31mTypeError\u001b[0m: 'tuple' object is not callable"
     ]
    }
   ],
   "source": [
    "isCheck=True\n",
    "nsample=100000 # size of the array with random values\n",
    "\n",
    "i=0\n",
    "h=0\n",
    "x=(x1,x2,x3,x4,x5,x6)\n",
    "\n",
    "for i in x:\n",
    "    if x(0) in x():\n",
    "        print(x(0))\n",
    "    \n",
    "\n",
    "\n"
   ]
  },
  {
   "cell_type": "markdown",
   "metadata": {},
   "source": [
    "<P style=\"background-color:purple;color:gold;font-size:133%\">\n",
    "<BR>\n",
    " Task 1: Observe what happens if you sum over more than two independent uniformly distributed random variables. \n",
    "<BR>\n",
    "<BR>\n",
    "</P>\n"
   ]
  },
  {
   "cell_type": "markdown",
   "metadata": {},
   "source": [
    "### NOTE\n",
    "In the text we talk about the __number__ of summation terms (e.g. in y=x1+x2+x3 the number is 3), not to be confused with the sample size. The __sample size__ is the amount of data values we generate for the random variables. The sample size is the amount of data values we generate for the random variables that we use in the summation. "
   ]
  },
  {
   "cell_type": "markdown",
   "metadata": {},
   "source": [
    "### (a) Write code that allows you to sum over 3, 4, 5, and 6 uniformly distributed random variables."
   ]
  },
  {
   "cell_type": "code",
   "execution_count": 14,
   "metadata": {},
   "outputs": [
    {
     "name": "stdout",
     "output_type": "stream",
     "text": [
      "----------------------------------------\n",
      "Summary statistics for the data:\n",
      "Sample size=1000\n",
      "mean   :       0.5009\n",
      "stddev :       0.2916\n",
      "mininum:       0.0010\n",
      "maximum:       0.9989\n",
      "----------------------------------------\n",
      "Summary statistics for the data:\n",
      "Sample size=1000\n",
      "mean   :       0.5089\n",
      "stddev :       0.2862\n",
      "mininum:       0.0001\n",
      "maximum:       0.9998\n",
      "----------------------------------------\n",
      "Summary statistics for the data:\n",
      "Sample size=1000\n",
      "mean   :       0.5190\n",
      "stddev :       0.2921\n",
      "mininum:       0.0019\n",
      "maximum:       0.9999\n",
      "\n",
      "The sum of the three uniformly distributed random variables:\n",
      "----------------------------------------\n",
      "Summary statistics for the data:\n",
      "Sample size=1000\n",
      "mean   :       1.5288\n",
      "stddev :       0.4919\n",
      "mininum:       0.1283\n",
      "maximum:       2.7226\n"
     ]
    }
   ],
   "source": [
    "x1=np.random.uniform(size=nsample)\n",
    "x2=np.random.uniform(size=nsample)\n",
    "x3=np.random.uniform(size=nsample)\n",
    "\n",
    "m1,s1,mn1,mx1=summary(x1)\n",
    "m2,s2,mn2,mx2=summary(x2)\n",
    "m1,s1,mn1,mx1=summary(x3)\n",
    "\n",
    "y=(x1+x2+x3)\n",
    "print()\n",
    "print (\"The sum of the three uniformly distributed random variables:\")\n",
    "ym,ys,ymn,ymx=summary(y)\n"
   ]
  },
  {
   "cell_type": "code",
   "execution_count": 15,
   "metadata": {},
   "outputs": [
    {
     "name": "stdout",
     "output_type": "stream",
     "text": [
      "----------------------------------------\n",
      "Summary statistics for the data:\n",
      "Sample size=1000\n",
      "mean   :       0.5165\n",
      "stddev :       0.2902\n",
      "mininum:       0.0005\n",
      "maximum:       0.9979\n",
      "----------------------------------------\n",
      "Summary statistics for the data:\n",
      "Sample size=1000\n",
      "mean   :       0.5130\n",
      "stddev :       0.2906\n",
      "mininum:       0.0002\n",
      "maximum:       0.9986\n",
      "----------------------------------------\n",
      "Summary statistics for the data:\n",
      "Sample size=1000\n",
      "mean   :       0.4966\n",
      "stddev :       0.2874\n",
      "mininum:       0.0012\n",
      "maximum:       0.9990\n",
      "----------------------------------------\n",
      "Summary statistics for the data:\n",
      "Sample size=1000\n",
      "mean   :       0.4902\n",
      "stddev :       0.2916\n",
      "mininum:       0.0003\n",
      "maximum:       0.9980\n",
      "\n",
      "The sum of the four uniformly distributed random variables:\n",
      "----------------------------------------\n",
      "Summary statistics for the data:\n",
      "Sample size=1000\n",
      "mean   :       1.5288\n",
      "stddev :       0.4919\n",
      "mininum:       0.1283\n",
      "maximum:       2.7226\n"
     ]
    }
   ],
   "source": [
    "x1=np.random.uniform(size=nsample)\n",
    "x2=np.random.uniform(size=nsample)\n",
    "x3=np.random.uniform(size=nsample)\n",
    "x4=np.random.uniform(size=nsample)\n",
    "\n",
    "m1,s1,mn1,mx1=summary(x1)\n",
    "m2,s2,mn2,mx2=summary(x2)\n",
    "m1,s1,mn1,mx1=summary(x3)\n",
    "m1,s1,mn1,mx1=summary(x4)\n",
    "\n",
    "z=(x1+x2+x3+x4)\n",
    "print()\n",
    "print (\"The sum of the four uniformly distributed random variables:\")\n",
    "ym,ys,ymn,ymx=summary(y)\n",
    "\n",
    "\n"
   ]
  },
  {
   "cell_type": "code",
   "execution_count": 16,
   "metadata": {},
   "outputs": [
    {
     "name": "stdout",
     "output_type": "stream",
     "text": [
      "----------------------------------------\n",
      "Summary statistics for the data:\n",
      "Sample size=1000\n",
      "mean   :       0.4960\n",
      "stddev :       0.2950\n",
      "mininum:       0.0000\n",
      "maximum:       0.9999\n",
      "----------------------------------------\n",
      "Summary statistics for the data:\n",
      "Sample size=1000\n",
      "mean   :       0.5045\n",
      "stddev :       0.2794\n",
      "mininum:       0.0008\n",
      "maximum:       0.9997\n",
      "----------------------------------------\n",
      "Summary statistics for the data:\n",
      "Sample size=1000\n",
      "mean   :       0.4956\n",
      "stddev :       0.2907\n",
      "mininum:       0.0002\n",
      "maximum:       0.9999\n",
      "----------------------------------------\n",
      "Summary statistics for the data:\n",
      "Sample size=1000\n",
      "mean   :       0.5141\n",
      "stddev :       0.2809\n",
      "mininum:       0.0008\n",
      "maximum:       0.9994\n",
      "----------------------------------------\n",
      "Summary statistics for the data:\n",
      "Sample size=1000\n",
      "mean   :       0.5053\n",
      "stddev :       0.2855\n",
      "mininum:       0.0001\n",
      "maximum:       0.9954\n",
      "\n",
      "The sum of the five uniformly distributed random variables:\n",
      "----------------------------------------\n",
      "Summary statistics for the data:\n",
      "Sample size=1000\n",
      "mean   :       1.5288\n",
      "stddev :       0.4919\n",
      "mininum:       0.1283\n",
      "maximum:       2.7226\n"
     ]
    }
   ],
   "source": [
    "x1=np.random.uniform(size=nsample)\n",
    "x2=np.random.uniform(size=nsample)\n",
    "x3=np.random.uniform(size=nsample)\n",
    "x4=np.random.uniform(size=nsample)\n",
    "x5=np.random.uniform(size=nsample)\n",
    "\n",
    "m1,s1,mn1,mx1=summary(x1)\n",
    "m2,s2,mn2,mx2=summary(x2)\n",
    "m1,s1,mn1,mx1=summary(x3)\n",
    "m1,s1,mn1,mx1=summary(x4)\n",
    "m1,s1,mn1,mx1=summary(x5)\n",
    "\n",
    "c=(x1+x2+x3+x4+x5)\n",
    "print()\n",
    "print (\"The sum of the five uniformly distributed random variables:\")\n",
    "ym,ys,ymn,ymx=summary(y)"
   ]
  },
  {
   "cell_type": "code",
   "execution_count": 17,
   "metadata": {},
   "outputs": [
    {
     "name": "stdout",
     "output_type": "stream",
     "text": [
      "----------------------------------------\n",
      "Summary statistics for the data:\n",
      "Sample size=1000\n",
      "mean   :       0.4944\n",
      "stddev :       0.2854\n",
      "mininum:       0.0008\n",
      "maximum:       0.9986\n",
      "----------------------------------------\n",
      "Summary statistics for the data:\n",
      "Sample size=1000\n",
      "mean   :       0.5164\n",
      "stddev :       0.2827\n",
      "mininum:       0.0010\n",
      "maximum:       0.9988\n",
      "----------------------------------------\n",
      "Summary statistics for the data:\n",
      "Sample size=1000\n",
      "mean   :       0.5103\n",
      "stddev :       0.2889\n",
      "mininum:       0.0006\n",
      "maximum:       0.9983\n",
      "----------------------------------------\n",
      "Summary statistics for the data:\n",
      "Sample size=1000\n",
      "mean   :       0.5156\n",
      "stddev :       0.2866\n",
      "mininum:       0.0003\n",
      "maximum:       0.9999\n",
      "----------------------------------------\n",
      "Summary statistics for the data:\n",
      "Sample size=1000\n",
      "mean   :       0.4957\n",
      "stddev :       0.2839\n",
      "mininum:       0.0006\n",
      "maximum:       0.9966\n",
      "----------------------------------------\n",
      "Summary statistics for the data:\n",
      "Sample size=1000\n",
      "mean   :       0.4914\n",
      "stddev :       0.2916\n",
      "mininum:       0.0006\n",
      "maximum:       0.9994\n",
      "\n",
      "The sum of the six uniformly distributed random variables:\n",
      "----------------------------------------\n",
      "Summary statistics for the data:\n",
      "Sample size=1000\n",
      "mean   :       1.5288\n",
      "stddev :       0.4919\n",
      "mininum:       0.1283\n",
      "maximum:       2.7226\n"
     ]
    }
   ],
   "source": [
    "x1=np.random.uniform(size=nsample)\n",
    "x2=np.random.uniform(size=nsample)\n",
    "x3=np.random.uniform(size=nsample)\n",
    "x4=np.random.uniform(size=nsample)\n",
    "x5=np.random.uniform(size=nsample)\n",
    "x6=np.random.uniform(size=nsample)\n",
    "\n",
    "m1,s1,mn1,mx1=summary(x1)\n",
    "m2,s2,mn2,mx2=summary(x2)\n",
    "m1,s1,mn1,mx1=summary(x3)\n",
    "m1,s1,mn1,mx1=summary(x4)\n",
    "m1,s1,mn1,mx1=summary(x5)\n",
    "m1,s1,mn1,mx1=summary(x6)\n",
    "\n",
    "d=(x1+x2+x3+x4+x5+x6)\n",
    "print()\n",
    "print (\"The sum of the six uniformly distributed random variables:\")\n",
    "ym,ys,ymn,ymx=summary(y)"
   ]
  },
  {
   "cell_type": "code",
   "execution_count": 18,
   "metadata": {},
   "outputs": [
    {
     "data": {
      "image/png": "[encoded data removed]",
      "text/plain": [
       "<Figure size 432x288 with 1 Axes>"
      ]
     },
     "metadata": {
      "needs_background": "light"
     },
     "output_type": "display_data"
    }
   ],
   "source": [
    "plt.hist(y,bins=10,color='cyan',edgecolor='black',label='y=x1+x2+x3',lw=1,fill=True,alpha=0.5)\n",
    "plt.hist(z,bins=10,color='green',edgecolor='black',label='y=x1+x2+x3+x4',lw=1,fill=True,alpha=0.5)\n",
    "plt.hist(c,bins=10,color='yellow',edgecolor='black',label='y=x1+x2+x3+x4+x5',lw=1,fill=True,alpha=0.5)\n",
    "plt.hist(d,bins=10,color='purple',edgecolor='black',label='y=x1+x2+x3+x4+x5+x6',lw=1,fill=True,alpha=0.5)\n",
    "\n",
    "plt.legend()\n",
    "plt.show()\n"
   ]
  },
  {
   "cell_type": "markdown",
   "metadata": {},
   "source": [
    "### (b) Adjust sample size and bin numbers to optimize the analysis \n",
    "\n",
    "- Increasing sample size: want to see a less noisy shape of the resulting distribution shown in the histograms. \n",
    "- Observe closely how the shape of the distribution of the summation variable (cyan colors) changes when the number of random uniform variables that we sum up (x1+x2+x3+ ... ) is increased. \n",
    "\n",
    "#### Note: Keep the sample size _nsample_ smaller than 100,000!"
   ]
  },
  {
   "cell_type": "code",
   "execution_count": 19,
   "metadata": {},
   "outputs": [
    {
     "data": {
      "text/plain": [
       "(array([  7.,  24.,  86., 133., 164., 197., 185., 109.,  67.,  28.]),\n",
       " array([0.12829745, 0.38772908, 0.64716071, 0.90659234, 1.16602397,\n",
       "        1.4254556 , 1.68488724, 1.94431887, 2.2037505 , 2.46318213,\n",
       "        2.72261376]),\n",
       " <BarContainer object of 10 artists>)"
      ]
     },
     "execution_count": 19,
     "metadata": {},
     "output_type": "execute_result"
    },
    {
     "data": {
      "image/png": "[encoded data removed]",
      "text/plain": [
       "<Figure size 432x288 with 1 Axes>"
      ]
     },
     "metadata": {
      "needs_background": "light"
     },
     "output_type": "display_data"
    }
   ],
   "source": [
    "plt.hist(y,bins=10,color='cyan',edgecolor='black',label='y=x1+x2',lw=1,fill=True,alpha=0.5)"
   ]
  },
  {
   "cell_type": "code",
   "execution_count": 23,
   "metadata": {},
   "outputs": [],
   "source": [
    "isCheck=True\n",
    "nsample=100000 # size of the array with random values"
   ]
  },
  {
   "cell_type": "code",
   "execution_count": 24,
   "metadata": {},
   "outputs": [
    {
     "name": "stdout",
     "output_type": "stream",
     "text": [
      "----------------------------------------\n",
      "Summary statistics for the data:\n",
      "Sample size=100000\n",
      "mean   :       0.4989\n",
      "stddev :       0.2886\n",
      "mininum:       0.0000\n",
      "maximum:       1.0000\n",
      "----------------------------------------\n",
      "Summary statistics for the data:\n",
      "Sample size=100000\n",
      "mean   :       0.5005\n",
      "stddev :       0.2887\n",
      "mininum:       0.0000\n",
      "maximum:       1.0000\n",
      "----------------------------------------\n",
      "Summary statistics for the data:\n",
      "Sample size=100000\n",
      "mean   :       0.5000\n",
      "stddev :       0.2886\n",
      "mininum:       0.0000\n",
      "maximum:       1.0000\n",
      "\n",
      "The sum of the three uniformly distributed random variables:\n",
      "----------------------------------------\n",
      "Summary statistics for the data:\n",
      "Sample size=100000\n",
      "mean   :       1.4994\n",
      "stddev :       0.4999\n",
      "mininum:       0.0267\n",
      "maximum:       2.9778\n"
     ]
    }
   ],
   "source": [
    "x1=np.random.uniform(size=nsample)\n",
    "x2=np.random.uniform(size=nsample)\n",
    "x3=np.random.uniform(size=nsample)\n",
    "\n",
    "m1,s1,mn1,mx1=summary(x1)\n",
    "m2,s2,mn2,mx2=summary(x2)\n",
    "m1,s1,mn1,mx1=summary(x3)\n",
    "\n",
    "y=(x1+x2+x3)\n",
    "print()\n",
    "print (\"The sum of the three uniformly distributed random variables:\")\n",
    "ym,ys,ymn,ymx=summary(y)"
   ]
  },
  {
   "cell_type": "code",
   "execution_count": 45,
   "metadata": {},
   "outputs": [
    {
     "data": {
      "text/plain": [
       "(array([ 2029.,  6183., 10102., 13929., 17956., 17910., 13984.,  9932.,\n",
       "         5997.,  1978.]),\n",
       " array([0.00506313, 0.20433133, 0.40359953, 0.60286773, 0.80213593,\n",
       "        1.00140413, 1.20067233, 1.39994053, 1.59920873, 1.79847693,\n",
       "        1.99774513]),\n",
       " <BarContainer object of 10 artists>)"
      ]
     },
     "execution_count": 45,
     "metadata": {},
     "output_type": "execute_result"
    },
    {
     "data": {
      "image/png": "[encoded data removed]",
      "text/plain": [
       "<Figure size 432x288 with 1 Axes>"
      ]
     },
     "metadata": {
      "needs_background": "light"
     },
     "output_type": "display_data"
    }
   ],
   "source": [
    "plt.hist(y,bins=10,color='cyan',edgecolor='black',label='y=x1+x2',lw=1,fill=True,alpha=0.5)"
   ]
  },
  {
   "cell_type": "markdown",
   "metadata": {},
   "source": [
    "<P style=\"background-color:purple;color:gold;font-size:133%\">\n",
    "<BR>\n",
    " Task 3: Compare the distribution of the summation values with the normal distribution curve. How good does the curve fit the data. In particular, take a look at the tails of the distribution.\n",
    "<BR>\n",
    "<BR>\n",
    "</P>\n",
    "\n",
    "### Summarize your observations and discuss the following question: How many uniformly distributed random variables do you have to sum so that the sum (a random variable) is normally distributed."
   ]
  },
  {
   "cell_type": "markdown",
   "metadata": {},
   "source": [
    "<P style=\"background-color:purple;color:gold;font-size:133%\">\n",
    "<BR>\n",
    "Task 3 (optional): Develop code with help of a loop structure that allows you to take the sum over a user defined number of uniformly distributed random variables. \n",
    "<BR>\n",
    "<BR>\n",
    " \n",
    "   \n",
    "\n"
   ]
  },
  {
   "cell_type": "code",
   "execution_count": 49,
   "metadata": {},
   "outputs": [
    {
     "ename": "SyntaxError",
     "evalue": "invalid syntax (2146267911.py, line 5)",
     "output_type": "error",
     "traceback": [
      "\u001b[0;36m  File \u001b[0;32m\"/tmp/ipykernel_38926/2146267911.py\"\u001b[0;36m, line \u001b[0;32m5\u001b[0m\n\u001b[0;31m    while x <= 1000\u001b[0m\n\u001b[0m                    ^\u001b[0m\n\u001b[0;31mSyntaxError\u001b[0m\u001b[0;31m:\u001b[0m invalid syntax\n"
     ]
    }
   ],
   "source": [
    "\n",
    "\n"
   ]
  },
  {
   "cell_type": "markdown",
   "metadata": {},
   "source": [
    "---\n",
    "#### Optional: For students who like to work with Pandas DataFrame objects and methods\n",
    "---"
   ]
  },
  {
   "cell_type": "code",
   "execution_count": 51,
   "metadata": {},
   "outputs": [
    {
     "data": {
      "image/png": "[encoded data removed]",
      "text/plain": [
       "<Figure size 432x288 with 1 Axes>"
      ]
     },
     "metadata": {
      "needs_background": "light"
     },
     "output_type": "display_data"
    }
   ],
   "source": [
    "df=pd.DataFrame() # empty data frame\n",
    "df['x1']=x1\n",
    "df['x2']=x2\n",
    "y=df.sum(axis=1)\n",
    "df['x1+x2']=y\n",
    "df\n",
    "fig=plt.figure(figsize=[6,4])\n",
    "ax=df['x1+x2'].hist()\n",
    "ax.set_xlabel('test')\n",
    "ax.set_ylabel('frequency')\n",
    "plt.show()"
   ]
  },
  {
   "cell_type": "markdown",
   "metadata": {},
   "source": [
    "### References:\n",
    "\n",
    " - Continous random variables, distributions, Normal distribution: Collaborative Statistics Ebook Ch. 5,6\n",
    " - Central Limit Theorem: Collaborative Statistics Ebook Ch. 7\n",
    " - Histogram [plot customization] (https://matplotlib.org/stable/api/_as_gen/matplotlib.pyplot.hist.html)\n",
    " - Info to the package [scipy.stats](https://docs.scipy.org/doc/scipy/reference/tutorial/stats.html) "
   ]
  },
  {
   "cell_type": "code",
   "execution_count": null,
   "metadata": {},
   "outputs": [],
   "source": []
  },
  {
   "cell_type": "code",
   "execution_count": null,
   "metadata": {},
   "outputs": [],
   "source": []
  }
 ],
 "metadata": {
  "kernelspec": {
   "display_name": "Python 3 August 2021 Environment",
   "language": "python",
   "name": "aug21"
  },
  "language_info": {
   "codemirror_mode": {
    "name": "ipython",
    "version": 3
   },
   "file_extension": ".py",
   "mimetype": "text/x-python",
   "name": "python",
   "nbconvert_exporter": "python",
   "pygments_lexer": "ipython3",
   "version": "3.8.10"
  }
 },
 "nbformat": 4,
 "nbformat_minor": 4
}
