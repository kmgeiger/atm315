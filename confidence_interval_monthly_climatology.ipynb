{
 "cells": [
  {
   "cell_type": "markdown",
   "metadata": {},
   "source": [
    "# Example calculation of 95% confidence intervals\n",
    "## Monthly mean 30yr average temperature climatology\n",
    "\n",
    "The statistical and programming objective is: \n",
    "\n",
    "- Calculate long-term mean for the average temperatures years during the years 1951-1980 and 1991-2020:\n",
    "    For each month: January, February, March , ... November, December\n",
    "\n",
    "- For each monthly climatological mean determine the 95% confidence interval using the equations described in the reading assignment\n",
    "\n",
    "- Summarize the results in one or two figures that allow us to observe changes in the mean climatologies.\n",
    "\n",
    "### Please refer to the textbooks for the calculations steps involved in estimating the 95% confidence interval!\n",
    "- Collaborative Statistics textbook Chapter 8.3 (p.337)\n",
    "- Practical Statistics Book Chapter 2 Box 2.2 pages 18-19.\n",
    "\n",
    "\n",
    "---"
   ]
  },
  {
   "cell_type": "markdown",
   "metadata": {},
   "source": [
    "## 1. Code development\n",
    "\n",
    "### 1.1 Import packages and function definitions\n",
    "\n",
    "We define a supporting function that sends a request to the data server and gets the data. \n",
    "\n",
    "__The function returns two lists that we assign to the 'standard variables' x and y:__\n",
    "- x contains the list with dates (type datetime)\n",
    "- y the list with temperatures (type float)\n",
    "\n",
    "We also import here all necessary packages. For the confidence interval calculation we make use the SciPy package stats.\n",
    "\n",
    "\n",
    "(Note: This is a function similar to the previous version in which we downloaded GHCN daily temperature data from the ACIS server, but we did not go into the details earlier in this course. See unit4 notebook get_ghcn_daily_from_server_and _save_to_csv.ipynb, udated version available.)"
   ]
  },
  {
   "cell_type": "code",
   "execution_count": 2,
   "metadata": {},
   "outputs": [],
   "source": [
    "# request a station time series\n",
    "# from Applied Climate Information System\n",
    "# http://www.rcc-acis.org/index.html\n",
    "# Author: OET\n",
    "# code designed for ATM315/ENV315 Python introduction\n",
    "\n",
    "import numpy as np\n",
    "import matplotlib.pyplot as plt\n",
    "import urllib3\n",
    "import json\n",
    "import datetime as dt\n",
    "import pandas as pd\n",
    "# for confidence interval calculation\n",
    "from scipy import  stats\n",
    "\n",
    "\n",
    "#########################################################################################################\n",
    "# function to get the monthly data from the server\n",
    "#########################################################################################################\n",
    "def get_stationdata_monthly(sid,var='avgt',startyear=2017,endyear=2017):\n",
    "    \"\"\"Sends request to regional climate center ACIS and gets monthly data for one station.\n",
    "    Input parameters: \n",
    "        sid (string): a station id\n",
    "        var (string): a variable name (e.g. 'avgt', 'mint', 'maxt')\n",
    "    Keyword parameters:\n",
    "        startyear and endyear (integers): for selecting the year range e.g. 1950 and 2017\n",
    "    \n",
    "    Returned objects:\n",
    "        list with dates (datetime objects)\n",
    "        list with the data \n",
    "    \"\"\"    \n",
    "    # the http address of the data server\n",
    "    host=\"http://data.rcc-acis.org/StnData\"\n",
    "    # forming the query string for the host server\n",
    "    sdate='&sdate='+str(startyear)+'-01-1'\n",
    "    edate='&edate='+str(endyear)+'-12-31'\n",
    "    query='?sid='+sid+'&'+sdate+'&'+edate+'&interval=mly&'\\\n",
    "    +'elems='+\"mly_mean_\"+var\n",
    "    # try to connect and to get the requested data\n",
    "    # in format ready to export to a csv file\n",
    "    print (\">send data request to \"+host+query)\n",
    "    print (\"station id:\",sid)\n",
    "    print (\"year range: %4d - %4d\" % (startyear,endyear))\n",
    "    print (\"> still waiting for response ...\")\n",
    "    try:\n",
    "        http= urllib3.PoolManager()\n",
    "        response = http.request('GET',host+query)\n",
    "        # convert json-string into dictionary\n",
    "        content =  json.loads(response.data.decode('utf-8'))\n",
    "        meta=content['meta']\n",
    "        data=content['data']\n",
    "        time=[]\n",
    "        value=[]\n",
    "        for item in data:\n",
    "            #print (item)\n",
    "            time.append(dt.datetime.strptime(item[0],\"%Y-%m\"))\n",
    "            if (item[1]!='M'):\n",
    "                value.append(float(item[1]))\n",
    "            else:\n",
    "                value.append(np.NAN)\n",
    "    except Exception as e:\n",
    "        print (\"error occurred:\", e)\n",
    "        return\n",
    "    print(\">... done\")\n",
    "    return time,value"
   ]
  },
  {
   "cell_type": "markdown",
   "metadata": {},
   "source": [
    "### 1.2 Main section: Downloading a single station data set (monthly mean data)"
   ]
  },
  {
   "cell_type": "code",
   "execution_count": 3,
   "metadata": {},
   "outputs": [
    {
     "name": "stdout",
     "output_type": "stream",
     "text": [
      ">send data request to http://data.rcc-acis.org/StnData?sid=USW00014735&&sdate=1950-01-1&&edate=2021-12-31&interval=mly&elems=mly_mean_avgt\n",
      "station id: USW00014735\n",
      "year range: 1950 - 2021\n",
      "> still waiting for response ...\n",
      ">... done\n"
     ]
    }
   ],
   "source": [
    "station_id=\"USW00014735\"\n",
    "varname=\"avgt\"\n",
    "x,y=get_stationdata_monthly(station_id,varname,startyear=1950,endyear=2021)"
   ]
  },
  {
   "cell_type": "code",
   "execution_count": 4,
   "metadata": {},
   "outputs": [],
   "source": [
    "df=pd.DataFrame()\n",
    "startdate=x[0]\n",
    "n=len(x)\n",
    "df['time']=x # pd.Series(pd.date_range(startdate, freq=\"M\",periods=n))\n",
    "df['avgt']=y\n",
    "df=df.set_index('time') # for better treatment of the time\n",
    "df['year']=df.index.year\n",
    "df['month']=df.index.month\n"
   ]
  },
  {
   "cell_type": "code",
   "execution_count": 5,
   "metadata": {},
   "outputs": [
    {
     "name": "stdout",
     "output_type": "stream",
     "text": [
      "             avgt  year  month\n",
      "time                          \n",
      "1950-01-01  30.98  1950      1\n",
      "1950-02-01  20.46  1950      2\n",
      "1950-03-01  27.15  1950      3\n",
      "1950-04-01  43.07  1950      4\n",
      "1950-05-01  57.50  1950      5\n",
      "...           ...   ...    ...\n",
      "2021-08-01  70.90  2021      8\n",
      "2021-09-01  62.17  2021      9\n",
      "2021-10-01  56.81  2021     10\n",
      "2021-11-01  38.78  2021     11\n",
      "2021-12-01  36.11  2021     12\n",
      "\n",
      "[864 rows x 3 columns]\n"
     ]
    }
   ],
   "source": [
    "print(df)"
   ]
  },
  {
   "cell_type": "code",
   "execution_count": null,
   "metadata": {},
   "outputs": [],
   "source": []
  },
  {
   "cell_type": "markdown",
   "metadata": {},
   "source": [
    "### 1.3 Data analysis tasks"
   ]
  },
  {
   "cell_type": "markdown",
   "metadata": {},
   "source": [
    "<P style=\"background-color:purple;color:gold;font-size:130%\">\n",
    "<BR>\n",
    "Task 1: Take a look at the data frame df: What are the column names, what is in df.index, what is the first row?\n",
    "<BR>\n",
    "<BR>\n",
    "</P>\n",
    "\n"
   ]
  },
  {
   "cell_type": "code",
   "execution_count": 6,
   "metadata": {},
   "outputs": [
    {
     "name": "stdout",
     "output_type": "stream",
     "text": [
      "DatetimeIndex(['1950-01-01', '1950-02-01', '1950-03-01', '1950-04-01',\n",
      "               '1950-05-01', '1950-06-01', '1950-07-01', '1950-08-01',\n",
      "               '1950-09-01', '1950-10-01',\n",
      "               ...\n",
      "               '2021-03-01', '2021-04-01', '2021-05-01', '2021-06-01',\n",
      "               '2021-07-01', '2021-08-01', '2021-09-01', '2021-10-01',\n",
      "               '2021-11-01', '2021-12-01'],\n",
      "              dtype='datetime64[ns]', name='time', length=864, freq=None)\n"
     ]
    }
   ],
   "source": [
    "print(df.index)\n",
    "#the df.index is time \n"
   ]
  },
  {
   "cell_type": "markdown",
   "metadata": {},
   "source": [
    "The column names are time, avgt, year, and month."
   ]
  },
  {
   "cell_type": "markdown",
   "metadata": {},
   "source": [
    "<P style=\"background-color:purple;color:gold;font-size:130%\">\n",
    "<BR>\n",
    "Task 2: Plot the full time series of the average temperature\n",
    "<BR>\n",
    "<BR>\n",
    "</P>"
   ]
  },
  {
   "cell_type": "code",
   "execution_count": 7,
   "metadata": {},
   "outputs": [
    {
     "data": {
      "text/plain": [
       "[<matplotlib.lines.Line2D at 0x7f506a74a700>]"
      ]
     },
     "execution_count": 7,
     "metadata": {},
     "output_type": "execute_result"
    },
    {
     "data": {
      "image/png": "[encoded data removed]",
      "text/plain": [
       "<Figure size 432x288 with 1 Axes>"
      ]
     },
     "metadata": {
      "needs_background": "light"
     },
     "output_type": "display_data"
    }
   ],
   "source": [
    "plt.plot(df['avgt'])\n"
   ]
  },
  {
   "cell_type": "markdown",
   "metadata": {},
   "source": [
    "<P style=\"background-color:purple;color:gold;font-size:130%\">\n",
    "<BR>\n",
    "Task 3: Select the rows for two 30 climate periods: 1951-1980 and 1991-2020\n",
    "<BR>\n",
    "<BR>\n",
    "</P>\n",
    "    \n",
    "Appy the query function to dataframe _df_ and assign the results to new variables and check with np.shape the dimensions and size of the data array. You should have 360 data left in the arrays. \n",
    "\n",
    "Tip: \n",
    "- Apply np.logical_and function and two Boolean array operations to the array x.\n",
    "- For this make use of the *dt.datetime* function to define a reference date for comparison as shown in the code below:\n"
   ]
  },
  {
   "cell_type": "code",
   "execution_count": 8,
   "metadata": {},
   "outputs": [
    {
     "name": "stdout",
     "output_type": "stream",
     "text": [
      "             avgt  year  month\n",
      "time                          \n",
      "1951-01-01  25.85  1951      1\n",
      "1951-02-01  27.02  1951      2\n",
      "1951-03-01  35.26  1951      3\n",
      "1951-04-01  47.63  1951      4\n",
      "1951-05-01  58.71  1951      5\n",
      "...           ...   ...    ...\n",
      "1980-08-01  70.68  1980      8\n",
      "1980-09-01  62.52  1980      9\n",
      "1980-10-01  47.37  1980     10\n",
      "1980-11-01  34.82  1980     11\n",
      "1980-12-01  19.85  1980     12\n",
      "\n",
      "[360 rows x 3 columns]\n",
      "             avgt  year  month\n",
      "time                          \n",
      "1991-01-01  23.13  1991      1\n",
      "1991-02-01  30.04  1991      2\n",
      "1991-03-01  37.42  1991      3\n",
      "1991-04-01  51.13  1991      4\n",
      "1991-05-01  63.19  1991      5\n",
      "...           ...   ...    ...\n",
      "2020-08-01  68.77  2020      8\n",
      "2020-09-01  59.73  2020      9\n",
      "2020-10-01  48.90  2020     10\n",
      "2020-11-01  41.03  2020     11\n",
      "2020-12-01  29.89  2020     12\n",
      "\n",
      "[360 rows x 3 columns]\n"
     ]
    }
   ],
   "source": [
    "dfq1=df.query(\"year >= 1951 and year <= 1980\")\n",
    "print(dfq1)\n",
    "\n",
    "dfq2=df.query(\"year >=1991 and year <= 2020\")\n",
    "print(dfq2)"
   ]
  },
  {
   "cell_type": "code",
   "execution_count": 9,
   "metadata": {},
   "outputs": [],
   "source": [
    "# check the results\n"
   ]
  },
  {
   "cell_type": "code",
   "execution_count": null,
   "metadata": {},
   "outputs": [],
   "source": []
  },
  {
   "cell_type": "markdown",
   "metadata": {},
   "source": [
    "<P style=\"background-color:purple;color:gold;font-size:130%\">\n",
    "<BR>\n",
    "Task 4: For each of the two subsampled data frames with the 30 year climate periods, select the  only month (a) January and then (b) July and plot the time series, respectively.\n",
    "    \n",
    "<BR>\n",
    "<BR>\n",
    "</P>\n",
    "    \n"
   ]
  },
  {
   "cell_type": "code",
   "execution_count": 10,
   "metadata": {},
   "outputs": [],
   "source": [
    "dfq3=dfq1.query(\"month == 1\")\n",
    "#print(dfq3)\n",
    "dfq4=dfq1.query(\"month ==7\")\n",
    "#print(dfq4)\n",
    "dfq5=dfq2.query(\"month == 1\")\n",
    "#print(dfq5)\n",
    "dfq6=dfq2.query(\"month ==7\")\n",
    "#print(dfq6)\n",
    "\n"
   ]
  },
  {
   "cell_type": "code",
   "execution_count": 11,
   "metadata": {},
   "outputs": [
    {
     "data": {
      "text/plain": [
       "Text(0.5, 1.0, '1951 to 1980')"
      ]
     },
     "execution_count": 11,
     "metadata": {},
     "output_type": "execute_result"
    },
    {
     "data": {
      "image/png": "[encoded data removed]",
      "text/plain": [
       "<Figure size 432x288 with 1 Axes>"
      ]
     },
     "metadata": {
      "needs_background": "light"
     },
     "output_type": "display_data"
    }
   ],
   "source": [
    "plt.plot(dfq3['avgt'])\n",
    "plt.plot(dfq4['avgt'])\n",
    "plt.title(\"1951 to 1980\")\n",
    "\n"
   ]
  },
  {
   "cell_type": "code",
   "execution_count": 12,
   "metadata": {},
   "outputs": [
    {
     "data": {
      "text/plain": [
       "Text(0.5, 1.0, '1991 to 2020')"
      ]
     },
     "execution_count": 12,
     "metadata": {},
     "output_type": "execute_result"
    },
    {
     "data": {
      "image/png": "[encoded data removed]",
      "text/plain": [
       "<Figure size 432x288 with 1 Axes>"
      ]
     },
     "metadata": {
      "needs_background": "light"
     },
     "output_type": "display_data"
    }
   ],
   "source": [
    "plt.plot(dfq5['avgt'])\n",
    "plt.plot(dfq6['avgt'])\n",
    "plt.title(\"1991 to 2020\")\n"
   ]
  },
  {
   "cell_type": "markdown",
   "metadata": {},
   "source": [
    "<P style=\"background-color:purple;color:gold;font-size:130%\">\n",
    "<BR>\n",
    "Task 5: Calculate the mean and standard deviation for each month for the second 30 year climatology\n",
    "<BR>\n",
    "<BR>\n",
    "</P>\n",
    "    \n",
    "Follow the example code shown below, which does the calculation for the first 30-year climatology (using the  the first dataframe _dfc1_). Save the results in new variables!\n",
    "    "
   ]
  },
  {
   "cell_type": "code",
   "execution_count": 13,
   "metadata": {},
   "outputs": [
    {
     "name": "stdout",
     "output_type": "stream",
     "text": [
      "mean temperature for month Jan: 21.04 F, stdev= 4.47\n",
      "mean temperature for month Feb: 23.37 F, stdev= 4.10\n",
      "mean temperature for month Mar: 33.53 F, stdev= 3.39\n",
      "mean temperature for month Apr: 46.47 F, stdev= 2.88\n",
      "mean temperature for month May: 57.43 F, stdev= 2.97\n",
      "mean temperature for month Jun: 66.66 F, stdev= 1.92\n",
      "mean temperature for month Jul: 71.40 F, stdev= 1.98\n",
      "mean temperature for month Aug: 69.14 F, stdev= 1.85\n",
      "mean temperature for month Sep: 61.21 F, stdev= 2.60\n",
      "mean temperature for month Oct: 50.43 F, stdev= 2.72\n",
      "mean temperature for month Nov: 39.32 F, stdev= 3.05\n",
      "mean temperature for month Dec: 26.44 F, stdev= 4.25\n"
     ]
    }
   ],
   "source": [
    "monthlist=['1','2','3','4','5','6', \n",
    "           '7','8','9','10','11','12']\n",
    "monthstr=['Jan','Feb','Mar','Apr','May','Jun',\n",
    "        'Jul','Aug','Sep','Oct','Nov','Dec']\n",
    "dfc1=df.query(\"year >= 1951 and year <= 1980\")\n",
    "\n",
    "# process the first 30 year climate data frame\n",
    "i=0\n",
    "mon_mean1=[] # empty list\n",
    "mon_stdev1=[] # empty list\n",
    "dfwork=dfc1 \n",
    "for mon in monthlist:\n",
    "    dfhelp=dfwork.query(\"month == \"+mon)\n",
    "    data_column=dfhelp['avgt']\n",
    "    data_array=data_column.values\n",
    "    m=np.nanmean(data_array)\n",
    "    s=np.nanstd(data_array)\n",
    "    print (f\"mean temperature for month {monthstr[i]}: {m:.2f} F, stdev= {s:.2f}\")\n",
    "    mon_mean1.append(m)\n",
    "    mon_stdev1.append(s)\n",
    "    i=i+1\n",
    "\n",
    "mon_mean1=np.array(mon_mean1) # type conversion list to numpy array\n",
    "mon_stdev1=np.array(mon_stdev1)\n"
   ]
  },
  {
   "cell_type": "code",
   "execution_count": 14,
   "metadata": {},
   "outputs": [
    {
     "name": "stdout",
     "output_type": "stream",
     "text": [
      "mean temperature for month Jan: 23.94 F, stdev= 5.10\n",
      "mean temperature for month Feb: 26.45 F, stdev= 4.77\n",
      "mean temperature for month Mar: 35.28 F, stdev= 4.24\n",
      "mean temperature for month Apr: 47.62 F, stdev= 2.69\n",
      "mean temperature for month May: 59.17 F, stdev= 2.93\n",
      "mean temperature for month Jun: 67.90 F, stdev= 1.62\n",
      "mean temperature for month Jul: 72.66 F, stdev= 2.52\n",
      "mean temperature for month Aug: 70.79 F, stdev= 2.02\n",
      "mean temperature for month Sep: 62.99 F, stdev= 2.43\n",
      "mean temperature for month Oct: 50.86 F, stdev= 2.67\n",
      "mean temperature for month Nov: 39.98 F, stdev= 2.96\n",
      "mean temperature for month Dec: 29.94 F, stdev= 3.87\n"
     ]
    }
   ],
   "source": [
    "monthlist=['1','2','3','4','5','6', \n",
    "           '7','8','9','10','11','12']\n",
    "monthstr=['Jan','Feb','Mar','Apr','May','Jun',\n",
    "        'Jul','Aug','Sep','Oct','Nov','Dec']\n",
    "dfc2=df.query(\"year >=1991 and year <= 2020\")\n",
    "\n",
    "# process the first 30 year climate data frame\n",
    "i=0\n",
    "mon_mean2=[] # empty list\n",
    "mon_stdev2=[] # empty list\n",
    "dfwork=dfc2 \n",
    "for mon in monthlist:\n",
    "    dfhelp=dfwork.query(\"month == \"+mon)\n",
    "    data_column=dfhelp['avgt']\n",
    "    data_array=data_column.values\n",
    "    m=np.nanmean(data_array)\n",
    "    s=np.nanstd(data_array)\n",
    "    print (f\"mean temperature for month {monthstr[i]}: {m:.2f} F, stdev= {s:.2f}\")\n",
    "    mon_mean2.append(m)\n",
    "    mon_stdev2.append(s)\n",
    "    i=i+1\n",
    "\n",
    "mon_mean2=np.array(mon_mean1) # type conversion list to numpy array\n",
    "mon_stdev2=np.array(mon_stdev1)"
   ]
  },
  {
   "cell_type": "markdown",
   "metadata": {},
   "source": [
    "<P style=\"background-color:purple;color:gold;font-size:130%\">\n",
    "<BR>\n",
    "Task 6: Finally, get the 95% confidence range using supporting function \n",
    "    for the t-distribution from SciPy package stats \n",
    "<BR>\n",
    "<BR>\n",
    "</P>\n",
    "    \n",
    "Start with the first 30 year climatology.\n",
    "    \n",
    "For each month, you have to calculate the 95% CI. \n",
    "Review the example from the previous class activity. \n",
    "You will need to determine the sample size _n_, degrees of freedom _df_, alpha-value, call the scipy function _stats.t.interval(alpha,df)_. See the example code below. The resulting \n",
    "    2 x 12 CI values have to be stored in lists (numpy arrays).\n"
   ]
  },
  {
   "cell_type": "code",
   "execution_count": 15,
   "metadata": {},
   "outputs": [
    {
     "name": "stdout",
     "output_type": "stream",
     "text": [
      "0 -4.2921414357154335 4.2921414357154335\n",
      "1 -3.5767845297628607 3.5767845297628607\n",
      "2 -2.8614276238102887 2.8614276238102887\n",
      "3 -2.1460707178577167 2.1460707178577167\n",
      "4 -1.4307138119051444 1.4307138119051444\n",
      "5 -0.7153569059525722 0.7153569059525722\n",
      "6 -0.7153569059525722 0.7153569059525722\n",
      "7 -1.4307138119051444 1.4307138119051444\n",
      "8 -2.1460707178577167 2.1460707178577167\n",
      "9 -2.8614276238102887 2.8614276238102887\n",
      "10 -3.5767845297628607 3.5767845297628607\n",
      "11 -4.2921414357154335 4.2921414357154335\n"
     ]
    }
   ],
   "source": [
    "\n",
    "n=10\n",
    "df=n-1\n",
    "alpha=0.95 # for both samples\n",
    "tint=np.array(stats.t.interval(alpha,df)) # function itself returns a lists\n",
    "ystd=np.array([6,5,4,3,2,1,1,2,3,4,5,6])\n",
    "ci=np.zeros(shape=[12,2])\n",
    "for i in range(12):\n",
    "    ci[i,:]=tint*ystd[i]/np.sqrt(n)\n",
    "    print (i,ci[i,0],ci[i,1])\n",
    "    i+=1"
   ]
  },
  {
   "cell_type": "code",
   "execution_count": 16,
   "metadata": {},
   "outputs": [
    {
     "name": "stdout",
     "output_type": "stream",
     "text": [
      "calculate 95% CI intervals for the first climatological mean values\n",
      "Jan -1.6686404851491152 1.6686404851491152\n",
      "Feb -1.5296806765012991 1.5296806765012991\n",
      "Mar -1.264853509723055 1.264853509723055\n",
      "Apr -1.075887706108553 1.075887706108553\n",
      "May -1.107857852640567 1.107857852640567\n",
      "Jun -0.7181387901694308 0.7181387901694308\n",
      "Jul -0.7398961331993551 0.7398961331993551\n",
      "Aug -0.6892441314044027 0.6892441314044027\n",
      "Sep -0.9722534753894538 0.9722534753894538\n",
      "Oct -1.0149298242994171 1.0149298242994171\n",
      "Nov -1.1370220883798499 1.1370220883798499\n",
      "Dec -1.588677710558692 1.588677710558692\n"
     ]
    }
   ],
   "source": [
    "print(\"calculate 95% CI intervals for the first climatological mean values\")\n",
    "nsample= np.array([30,30,30, 30,30,30, 30,30,30, 30,30,30])\n",
    "m= mon_mean1 # array with 12 mean values\n",
    "ystd=mon_stdev1\n",
    "alpha=0.95 # confidence level (95%)\n",
    "ci1=np.zeros(shape=[2,12])\n",
    "for i in range(12):\n",
    "    n=nsample[i]\n",
    "    df=n-1 # degrees of freedom (could vary by month)\n",
    "    tint=np.array(stats.t.interval(alpha,df)) # function itself returns a lists\n",
    "    ci1[:,i]=tint*ystd[i]/np.sqrt(n)\n",
    "    print (monthstr[i],ci1[0,i],ci1[1,i])\n",
    "    i+=1"
   ]
  },
  {
   "cell_type": "code",
   "execution_count": 17,
   "metadata": {
    "jupyter": {
     "source_hidden": true
    },
    "tags": []
   },
   "outputs": [
    {
     "name": "stdout",
     "output_type": "stream",
     "text": [
      "calculate 95% CI intervals for the first climatological mean values\n",
      "Jan -1.6686404851491152 1.6686404851491152\n",
      "Feb -1.5296806765012991 1.5296806765012991\n",
      "Mar -1.264853509723055 1.264853509723055\n",
      "Apr -1.075887706108553 1.075887706108553\n",
      "May -1.107857852640567 1.107857852640567\n",
      "Jun -0.7181387901694308 0.7181387901694308\n",
      "Jul -0.7398961331993551 0.7398961331993551\n",
      "Aug -0.6892441314044027 0.6892441314044027\n",
      "Sep -0.9722534753894538 0.9722534753894538\n",
      "Oct -1.0149298242994171 1.0149298242994171\n",
      "Nov -1.1370220883798499 1.1370220883798499\n",
      "Dec -1.588677710558692 1.588677710558692\n"
     ]
    }
   ],
   "source": [
    "print(\"calculate 95% CI intervals for the first climatological mean values\")\n",
    "nsample= np.array([30,30,30, 30,30,30, 30,30,30, 30,30,30])\n",
    "m= mon_mean1 # array with 12 mean values\n",
    "ystd=mon_stdev1\n",
    "alpha=0.95 # confidence level (95%)\n",
    "ci1=np.zeros(shape=[2,12])\n",
    "for i in range(12):\n",
    "    n=nsample[i]\n",
    "    df=n-1 # degrees of freedom (could vary by month)\n",
    "    tint=np.array(stats.t.interval(alpha,df)) # function itself returns a lists\n",
    "    ci1[:,i]=tint*ystd[i]/np.sqrt(n)\n",
    "    print (monthstr[i],ci1[0,i],ci1[1,i])\n",
    "    i+=1"
   ]
  },
  {
   "cell_type": "code",
   "execution_count": 18,
   "metadata": {},
   "outputs": [
    {
     "name": "stdout",
     "output_type": "stream",
     "text": [
      "calculate 95% CI intervals for the second climatological mean values\n",
      "0 -1.6686404851491152 1.6686404851491152\n",
      "1 -1.5296806765012991 1.5296806765012991\n",
      "2 -1.264853509723055 1.264853509723055\n",
      "3 -1.075887706108553 1.075887706108553\n",
      "4 -1.107857852640567 1.107857852640567\n",
      "5 -0.7181387901694308 0.7181387901694308\n",
      "6 -0.7398961331993551 0.7398961331993551\n",
      "7 -0.6892441314044027 0.6892441314044027\n",
      "8 -0.9722534753894538 0.9722534753894538\n",
      "9 -1.0149298242994171 1.0149298242994171\n",
      "10 -1.1370220883798499 1.1370220883798499\n",
      "11 -1.588677710558692 1.588677710558692\n"
     ]
    }
   ],
   "source": [
    "print(\"calculate 95% CI intervals for the second climatological mean values\")\n",
    "nsample= np.array([30,30,30, 30,30,30, 30,30,30, 30,30,30])\n",
    "m= mon_mean2 # array with 12 mean values\n",
    "ystd=mon_stdev2\n",
    "alpha=0.95 # confidence level (95%)\n",
    "ci2=np.zeros(shape=[2,12])\n",
    "for i in range(12):\n",
    "    n=nsample[i]\n",
    "    df=n-1 # degrees of freedom (could vary by month)\n",
    "    tint=np.array(stats.t.interval(alpha,df)) # function itself returns a lists\n",
    "    ci2[:,i]=tint*ystd[i]/np.sqrt(n)\n",
    "    print (i,ci2[0,i],ci2[1,i])\n",
    "    i+=1"
   ]
  },
  {
   "cell_type": "markdown",
   "metadata": {},
   "source": [
    "## 2. Summary of results "
   ]
  },
  {
   "cell_type": "markdown",
   "metadata": {},
   "source": [
    "<P style=\"background-color:purple;color:gold;font-size:130%\">\n",
    "<BR>\n",
    "Task 7: Present the climatologies in a graph or two that make it easy to see the differences between the two periods, and how much the confidence intervals overlap.\n",
    "<BR>\n",
    "<BR>\n",
    "</P>\n",
    "    \n",
    "- Tip: Check the function plt.errorbar for showing the confidence intervals"
   ]
  },
  {
   "cell_type": "code",
   "execution_count": 19,
   "metadata": {},
   "outputs": [
    {
     "data": {
      "image/png": "[encoded data removed]",
      "text/plain": [
       "<Figure size 432x288 with 1 Axes>"
      ]
     },
     "metadata": {
      "needs_background": "light"
     },
     "output_type": "display_data"
    }
   ],
   "source": [
    "#Example code \n",
    "# help(plt.errorbar)\n",
    "xtest=[1,2,3]\n",
    "ytest=[52,65.5,72,]\n",
    "ci=np.zeros([2,3])\n",
    "ci=np.array([1.5,2,0.5])\n",
    "# our CIs are symmetric around the mean\n",
    "plt.errorbar(xtest,ytest,yerr=ci)\n",
    "plt.title(\"example plot with plt.errorbar()\")\n",
    "plt.show()\n"
   ]
  },
  {
   "cell_type": "code",
   "execution_count": 20,
   "metadata": {},
   "outputs": [
    {
     "data": {
      "image/png": "[encoded data removed]",
      "text/plain": [
       "<Figure size 576x432 with 1 Axes>"
      ]
     },
     "metadata": {
      "needs_background": "light"
     },
     "output_type": "display_data"
    }
   ],
   "source": [
    "x=np.arange(1,13,1)\n",
    "fig=plt.figure(figsize=[8,6])\n",
    "plt.errorbar(x,mon_mean1,yerr=ci1[1,:],color='purple',label=\n",
    "             'climatology 1951-1980')\n",
    "plt.errorbar(x,mon_mean2,yerr=ci2[1,:],color='cyan',label=\n",
    "             'climatology 1991-2020')\n",
    "plt.title(\"Comparison of the Monthly mean climatologies\")\n",
    "plt.legend()\n",
    "plt.show()"
   ]
  },
  {
   "cell_type": "markdown",
   "metadata": {},
   "source": [
    "<P style=\"background-color:purple;color:gold;font-size:130%\">\n",
    "<BR>\n",
    "Task 8: Optional: Summary of the quantitavie results\n",
    "<BR>\n",
    "<BR>\n",
    "</P>\n",
    "    \n",
    "Write all the results in form of a Pandas data frame and write the data frame to a local CSV file."
   ]
  },
  {
   "cell_type": "code",
   "execution_count": 21,
   "metadata": {},
   "outputs": [],
   "source": [
    "# optional code "
   ]
  },
  {
   "cell_type": "markdown",
   "metadata": {},
   "source": [
    "## 3 Summary and conclusion\n",
    "\n",
    "Write here your summary and conclusions.\n",
    "\n",
    "### 3.1 Changes in the mean temperatures\n",
    "\n",
    "### 3.2 Significance of the changes based on the analysis of the confidence intervals"
   ]
  },
  {
   "cell_type": "markdown",
   "metadata": {},
   "source": [
    "### Further References:\n",
    "- Scipy stats package: \n",
    "    - support for [normal distribution](https://docs.scipy.org/doc/scipy-0.14.0/reference/generated/scipy.stats.norm.html#scipy.stats.norm)\n",
    "    - support for [t distribution](https://docs.scipy.org/doc/scipy-0.14.0/reference/generated/scipy.stats.t.html) (including confidence intervals)\n",
    "- Matplotlib.pyplot \n",
    "    - [plt.errorbar examples](https://matplotlib.org/1.2.1/examples/pylab_examples/errorbar_demo.html) \n",
    "- [GHCND](https://www.ncdc.noaa.gov/ghcn-daily-description)\n",
    "- FTP site with station ids etc: ftp://ftp.ncdc.noaa.gov/pub/data/ghcn/daily/"
   ]
  },
  {
   "cell_type": "code",
   "execution_count": null,
   "metadata": {},
   "outputs": [],
   "source": []
  }
 ],
 "metadata": {
  "kernelspec": {
   "display_name": "Python 3 August 2021 Environment",
   "language": "python",
   "name": "aug21"
  },
  "language_info": {
   "codemirror_mode": {
    "name": "ipython",
    "version": 3
   },
   "file_extension": ".py",
   "mimetype": "text/x-python",
   "name": "python",
   "nbconvert_exporter": "python",
   "pygments_lexer": "ipython3",
   "version": "3.8.10"
  }
 },
 "nbformat": 4,
 "nbformat_minor": 4
}
