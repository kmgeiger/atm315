{
 "cells": [
  {
   "cell_type": "markdown",
   "metadata": {},
   "source": [
    "## Unit 1.1 Python data types and operators"
   ]
  },
  {
   "cell_type": "markdown",
   "metadata": {},
   "source": [
    "### 1.1.1 Calculations with integer and floating point numbers\n",
    "\n",
    "You can use Python cells and the Run-button to do calculations pretty simple and fast.  \n",
    "Below are some tasks that will demonstrate how Python works with interger and floating point numbers and typical mathematical operators. "
   ]
  },
  {
   "cell_type": "markdown",
   "metadata": {},
   "source": [
    "One of the common problem is to convert temperatures from degree Fahrenheit F to degree Celsius C (or from C to F).\n",
    "\n",
    "The conversion is a linear relationship:\n",
    "### (1) $T_C= (T_F-32)*5/9$\n",
    "\n",
    "### (2) $T_F= 9/5*T_C+32$\n",
    "\n",
    "\n",
    "Tf and Tc are placeholders for the actual values. In Python we can do a single calculation and convert -40C into temperature in F.    "
   ]
  },
  {
   "cell_type": "code",
   "execution_count": 1,
   "metadata": {},
   "outputs": [
    {
     "data": {
      "text/plain": [
       "-40.0"
      ]
     },
     "execution_count": 1,
     "metadata": {},
     "output_type": "execute_result"
    }
   ],
   "source": [
    "9/5*(-40)+32"
   ]
  },
  {
   "cell_type": "markdown",
   "metadata": {},
   "source": [
    "That results is visible to us but but otherwise not a very useful approach for large volume of data.\n",
    "\n",
    "Whenever we need to repeat the same calculation for many data, we need to be able to automize the calculation. In other words we need to develop a set of instructions that can be run. So, we need to write code that is using placeholders for the actual values. In Python (and other programming languages) we use variable names. In Python we can have some **reserved keywords** (e.g. print, while, for, if, else) that **we must not use as variables**, but letters like x,y can be used, or temp_f and temp_c can be used.\n",
    "\n",
    "We can find out about the Python keywords with the help function:"
   ]
  },
  {
   "cell_type": "code",
   "execution_count": null,
   "metadata": {},
   "outputs": [],
   "source": [
    "help(\"keywords\")"
   ]
  },
  {
   "cell_type": "markdown",
   "metadata": {},
   "source": [
    "### Examples for variable names that you can use\n",
    "\n",
    "- single letters : *i, j, k, n, m, x ,y, z*\n",
    "- single words: *temperature, temp, slp, sst1, sst2*\n",
    "- longer multi-words compounds: *temp_fahrenheit, infection_rate, tree_ring_width*\n",
    "\n"
   ]
  },
  {
   "cell_type": "markdown",
   "metadata": {},
   "source": [
    "### When and how do we create a new variable in a Python script?\n",
    "\n",
    "We'll see that we have multiple ways to define a new variable in Python. For the moment it's sufficient to state the following rule:\n",
    "\n",
    "- You can create a variable anywhere in the Python code when you need one.\n",
    "- We create variables by assignment of a value.\n",
    "\n",
    "Let's use the above temperature conversion example:"
   ]
  },
  {
   "cell_type": "code",
   "execution_count": 2,
   "metadata": {},
   "outputs": [],
   "source": [
    "tc=-42 # comment: assign variable temp_c the temperature value in deg C\n",
    "tf=9/5*tc+32\n"
   ]
  },
  {
   "cell_type": "markdown",
   "metadata": {},
   "source": [
    "When you run the cell, you don't see much happening on the screen. The kernel program in the background, however, has put two values into the computer's memory. The variables names allow us now to access the values and use them in the following code. The best way to describe how variables actually work is by thinking of variables as pointers that point at a location in the computer's memory. The bits of zeros and ones can then be accessed through the use of variables. See the image below from [Python Course](https://python-course.eu/python-tutorial/data-types-and-variables.php). "
   ]
  },
  {
   "cell_type": "code",
   "execution_count": null,
   "metadata": {},
   "outputs": [],
   "source": [
    "from IPython.display import Image\n",
    "Image(\"https://www.python-course.eu/images/python_variable_1.png\",width=400)"
   ]
  },
  {
   "cell_type": "markdown",
   "metadata": {},
   "source": [
    "### Use the function print() to show the value of variable tf!\n",
    " "
   ]
  },
  {
   "cell_type": "code",
   "execution_count": 3,
   "metadata": {},
   "outputs": [
    {
     "name": "stdout",
     "output_type": "stream",
     "text": [
      "-43.60000000000001\n"
     ]
    }
   ],
   "source": [
    "print(tf)"
   ]
  },
  {
   "cell_type": "markdown",
   "metadata": {},
   "source": [
    "---"
   ]
  },
  {
   "cell_type": "markdown",
   "metadata": {},
   "source": [
    "_A note on Python cells and seeing the effects of a running a Python code cell in Notebooks._\n",
    "\n",
    "You may wonder why sometimes running the code cell does not show the result of your calculations. It is possible to show the result of a single line of calculations like this"
   ]
  },
  {
   "cell_type": "code",
   "execution_count": 7,
   "metadata": {},
   "outputs": [
    {
     "data": {
      "text/plain": [
       "0.025"
      ]
     },
     "execution_count": 7,
     "metadata": {},
     "output_type": "execute_result"
    }
   ],
   "source": [
    "x=1\n",
    "y=40\n",
    "x/y"
   ]
  },
  {
   "cell_type": "markdown",
   "metadata": {},
   "source": [
    "But you won't see all results when you put two or more calculations in one cell"
   ]
  },
  {
   "cell_type": "code",
   "execution_count": 5,
   "metadata": {},
   "outputs": [
    {
     "data": {
      "text/plain": [
       "-40.0"
      ]
     },
     "execution_count": 5,
     "metadata": {},
     "output_type": "execute_result"
    }
   ],
   "source": [
    "(-8-32)*5/9\n",
    "9/5*(-40)+32"
   ]
  },
  {
   "cell_type": "markdown",
   "metadata": {},
   "source": [
    "That's why we need to use the print function in our code to show the results of our code.\n"
   ]
  },
  {
   "cell_type": "code",
   "execution_count": 6,
   "metadata": {},
   "outputs": [
    {
     "name": "stdout",
     "output_type": "stream",
     "text": [
      "-42\n",
      "-43.60000000000001\n"
     ]
    }
   ],
   "source": [
    "print(tc)\n",
    "print (tf)"
   ]
  },
  {
   "cell_type": "markdown",
   "metadata": {},
   "source": [
    "(Remember, we defined variables tf, tc above and ran the upper code cells before. The computer still has the values from the last assignment in the memory. However, if you never ran the code cells at the top before and go here directly you will see a _NameError: name 'tc' is not defined_ message.)"
   ]
  },
  {
   "cell_type": "markdown",
   "metadata": {},
   "source": [
    "# Activity"
   ]
  },
  {
   "cell_type": "markdown",
   "metadata": {},
   "source": [
    "#### Task 1\n",
    "\n",
    "In the German news you read about a recent snow storm event. The article mentions snow accumulations of 80 cm.  \n",
    "How much is this in inches? Look up the conversion factor from inches to centimeter and do the calculation with Python.  "
   ]
  },
  {
   "cell_type": "code",
   "execution_count": 4,
   "metadata": {},
   "outputs": [
    {
     "name": "stdout",
     "output_type": "stream",
     "text": [
      "31.496\n"
     ]
    }
   ],
   "source": [
    "sn=80\n",
    "inch=sn*0.3937\n",
    "print(inch)"
   ]
  },
  {
   "cell_type": "markdown",
   "metadata": {},
   "source": [
    "#### Task 2\n",
    "\n",
    "Goto to the [EPA's web page](https://www.epa.gov/energy/greenhouse-gases-equivalencies-calculator-calculations-and-references) and use Python code to validate the _CO2 emission factor_\n",
    "(an estimate for how much CO2 is emitted per kWh electricity production/consumption).\n",
    "\n"
   ]
  },
  {
   "cell_type": "code",
   "execution_count": 11,
   "metadata": {},
   "outputs": [
    {
     "name": "stdout",
     "output_type": "stream",
     "text": [
      "0.00070870464\n"
     ]
    }
   ],
   "source": [
    "emissionfactor=1562.4*(4.536*10**-4)*0.001\n",
    "print(emissionfactor)"
   ]
  },
  {
   "cell_type": "markdown",
   "metadata": {},
   "source": [
    "#### Task 3\n",
    "\n",
    "Floating point numbers and the use of the scientific floating point notation. \n",
    "The speed of light is \n",
    "\n",
    "$c=299792458.0\\frac{m}{s}$\n",
    "\n",
    "Proof that the floating point number written with the exponent notation \n",
    "$c=2.99792458E8\\frac{m}{s}$ is indeed the same value by performing a calculation that \n",
    "results in  value 1.0.\n"
   ]
  },
  {
   "cell_type": "code",
   "execution_count": 12,
   "metadata": {},
   "outputs": [
    {
     "data": {
      "text/plain": [
       "1.0"
      ]
     },
     "execution_count": 12,
     "metadata": {},
     "output_type": "execute_result"
    }
   ],
   "source": [
    "c=2.99792458E8\n",
    "c/c"
   ]
  },
  {
   "cell_type": "markdown",
   "metadata": {},
   "source": [
    "#### Task 4\n",
    "\n",
    "Use the function *type()* and to find out the type of the result of the following numerical operations  \n",
    "- 12 plus 3, \n",
    "- 12 minus 12, \n",
    "- 12 times 3, \n",
    "- 12 divided by 3,  \n",
    "- 11 divided by 3.\n",
    "\n",
    "Use function *type()* "
   ]
  },
  {
   "cell_type": "code",
   "execution_count": 13,
   "metadata": {},
   "outputs": [
    {
     "data": {
      "text/plain": [
       "int"
      ]
     },
     "execution_count": 13,
     "metadata": {},
     "output_type": "execute_result"
    }
   ],
   "source": [
    "type(12+3)"
   ]
  },
  {
   "cell_type": "code",
   "execution_count": 15,
   "metadata": {},
   "outputs": [
    {
     "data": {
      "text/plain": [
       "int"
      ]
     },
     "execution_count": 15,
     "metadata": {},
     "output_type": "execute_result"
    }
   ],
   "source": [
    "type(12-12)"
   ]
  },
  {
   "cell_type": "code",
   "execution_count": 16,
   "metadata": {},
   "outputs": [
    {
     "data": {
      "text/plain": [
       "int"
      ]
     },
     "execution_count": 16,
     "metadata": {},
     "output_type": "execute_result"
    }
   ],
   "source": [
    "type(12*3)"
   ]
  },
  {
   "cell_type": "code",
   "execution_count": 14,
   "metadata": {},
   "outputs": [
    {
     "data": {
      "text/plain": [
       "float"
      ]
     },
     "execution_count": 14,
     "metadata": {},
     "output_type": "execute_result"
    }
   ],
   "source": [
    "type(12/3) "
   ]
  },
  {
   "cell_type": "code",
   "execution_count": 17,
   "metadata": {},
   "outputs": [
    {
     "data": {
      "text/plain": [
       "float"
      ]
     },
     "execution_count": 17,
     "metadata": {},
     "output_type": "execute_result"
    }
   ],
   "source": [
    "type(11/3)"
   ]
  },
  {
   "cell_type": "markdown",
   "metadata": {},
   "source": [
    "# Summary:\n",
    "\n",
    "- You should now be able to assign values to variables in Python.  \n",
    "- Numbers can be represented in Python by different data types: \n",
    "    - *int*, *float*\n",
    "    \n",
    "- Implicit type conversion can take place during numerical operations such as division.  \n",
    "Since version 3, Python makes conversions to type *float*. \n",
    "- Variables can be used to store values in the computer's memory and re-use the values. \n",
    "- Remember to make use of the function *type()* to get information on the type the data objects assigned to variables. \n",
    "- Make use of function *print()* to show the value of a variable. \n"
   ]
  },
  {
   "cell_type": "markdown",
   "metadata": {},
   "source": [
    "---\n",
    "### References and suggested reading:\n",
    "\n",
    "- [Think Python e-book Chapter 1 (Python program basics, data values & data types)](https://greenteapress.com/thinkpython2/html/thinkpython2002.html)\n",
    "- [Think Python e-book Chapter 2 (variables)](https://greenteapress.com/thinkpython2/html/thinkpython2003.html)\n",
    "- [Python Course explaining concept of variables](https://python-course.eu/python-tutorial/data-types-and-variables.php)\n",
    "\n",
    "John V. Guttag: Introduction to Computation and Programming Using Python (2013) [hereafter JVG]\n",
    "- Ch. 1: “The way of a program” (for a general overview about computer programming and Python, differnt types of programming errors, imparative knowledge, etc.)\n",
    "- Ch. 2: “Variables and Expressions” (You can skip section 2.4)\n",
    "\n",
    "    "
   ]
  },
  {
   "cell_type": "code",
   "execution_count": null,
   "metadata": {},
   "outputs": [],
   "source": []
  }
 ],
 "metadata": {
  "kernelspec": {
   "display_name": "Python 3 (ipykernel)",
   "language": "python",
   "name": "python3"
  },
  "language_info": {
   "codemirror_mode": {
    "name": "ipython",
    "version": 3
   },
   "file_extension": ".py",
   "mimetype": "text/x-python",
   "name": "python",
   "nbconvert_exporter": "python",
   "pygments_lexer": "ipython3",
   "version": "3.8.10"
  }
 },
 "nbformat": 4,
 "nbformat_minor": 2
}
