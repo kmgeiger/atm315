{
 "cells": [
  {
   "cell_type": "code",
   "execution_count": 1,
   "id": "a42f571b-cfff-45dd-8fc5-81894ab681ad",
   "metadata": {},
   "outputs": [
    {
     "data": {
      "text/plain": [
       "'5+7.6'"
      ]
     },
     "execution_count": 1,
     "metadata": {},
     "output_type": "execute_result"
    }
   ],
   "source": [
    "'5+7.6'"
   ]
  },
  {
   "cell_type": "code",
   "execution_count": 2,
   "id": "36a22591-b81a-4416-958b-fd0c1db3d7bc",
   "metadata": {},
   "outputs": [
    {
     "data": {
      "text/plain": [
       "'12.6'"
      ]
     },
     "execution_count": 2,
     "metadata": {},
     "output_type": "execute_result"
    }
   ],
   "source": [
    "str(5+7.6)"
   ]
  },
  {
   "cell_type": "code",
   "execution_count": 3,
   "id": "0b31bbd5-e61d-4745-b858-d6841c95af89",
   "metadata": {},
   "outputs": [
    {
     "data": {
      "text/plain": [
       "'helloworld'"
      ]
     },
     "execution_count": 3,
     "metadata": {},
     "output_type": "execute_result"
    }
   ],
   "source": [
    "'hello'+'world'"
   ]
  },
  {
   "cell_type": "code",
   "execution_count": 4,
   "id": "af14e494-1d83-45c1-865a-0576089933aa",
   "metadata": {},
   "outputs": [
    {
     "data": {
      "text/plain": [
       "'57.6'"
      ]
     },
     "execution_count": 4,
     "metadata": {},
     "output_type": "execute_result"
    }
   ],
   "source": [
    "'5'+'7.6'"
   ]
  },
  {
   "cell_type": "code",
   "execution_count": null,
   "id": "234b3582-ff70-484d-a012-b02b927f83b7",
   "metadata": {},
   "outputs": [],
   "source": []
  }
 ],
 "metadata": {
  "kernelspec": {
   "display_name": "Python 3 August 2021 Environment",
   "language": "python",
   "name": "aug21"
  },
  "language_info": {
   "codemirror_mode": {
    "name": "ipython",
    "version": 3
   },
   "file_extension": ".py",
   "mimetype": "text/x-python",
   "name": "python",
   "nbconvert_exporter": "python",
   "pygments_lexer": "ipython3",
   "version": "3.8.10"
  }
 },
 "nbformat": 4,
 "nbformat_minor": 5
}
